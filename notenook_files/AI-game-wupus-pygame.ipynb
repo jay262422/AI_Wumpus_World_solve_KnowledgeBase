{
 "cells": [
  {
   "cell_type": "code",
   "execution_count": 1,
   "id": "96d19571",
   "metadata": {},
   "outputs": [
    {
     "name": "stdout",
     "output_type": "stream",
     "text": [
      "pygame 2.1.2 (SDL 2.0.18, Python 3.9.13)\n",
      "Hello from the pygame community. https://www.pygame.org/contribute.html\n"
     ]
    }
   ],
   "source": [
    "import numpy as np\n",
    "import random\n",
    "import os\n",
    "import pygame\n",
    "from pygame.locals import *\n",
    "import time"
   ]
  },
  {
   "cell_type": "code",
   "execution_count": null,
   "id": "b193387f",
   "metadata": {},
   "outputs": [],
   "source": []
  },
  {
   "cell_type": "code",
   "execution_count": null,
   "id": "83704613",
   "metadata": {},
   "outputs": [],
   "source": []
  },
  {
   "cell_type": "code",
   "execution_count": 2,
   "id": "f6a904a2",
   "metadata": {},
   "outputs": [],
   "source": [
    "os.chdir(r'D:\\Coding\\python\\pygame\\wumpus-world')\n",
    "\n",
    "class make_agent:\n",
    "    def __init__(self,n):\n",
    "        self.start = [3,0]\n",
    "        self.visited = []\n",
    "        self.currant = self.start\n",
    "        self.curr_di = 0\n",
    "        self.move_di = {0:[[0,1],'-> '],\n",
    "                       1:[[-1,0],'|^ '],\n",
    "                       2:[[0,-1],'<- '],\n",
    "                       3:[[1,0],'_| ']}\n",
    "        self.size = n\n",
    "        self.im_agent = pygame.image.load(r'player.png').convert_alpha()\n",
    "        \n",
    "        \n",
    "    def move_forward(self):\n",
    "        if((self.curr_di==0 and self.currant[1]==self.size-1) or (self.curr_di==1 and self.currant[0]==0) or (self.curr_di==2 and self.currant[1]==0) or (self.curr_di==3 and self.currant[0]==self.size-1)):\n",
    "            pass\n",
    "        else:\n",
    "            self.currant = [sum(i) for i in zip(self.currant, self.move_di[self.curr_di][0])]\n",
    "        \n",
    "    def turn_90(self,pan):\n",
    "        if(self.curr_di == 0 and pan == -1):\n",
    "            pan = 3\n",
    "        if(self.curr_di == 3 and pan == 1):\n",
    "            pan = -3\n",
    "        self.curr_di = self.curr_di+pan\n",
    "        \n",
    "    def make_turn(self,dirr):\n",
    "        #print('enter \"right\" or \"left\"')\n",
    "        #dirr = input()\n",
    "        if(dirr=='right'):\n",
    "            self.turn_90(-1)\n",
    "            self.im_agent = pygame.transform.rotate(self.im_agent,-90)\n",
    "        if(dirr=='left'):\n",
    "            self.turn_90(1)\n",
    "            self.im_agent = pygame.transform.rotate(self.im_agent,90)\n",
    "            \n",
    "    \n",
    "\n",
    "\n",
    "class block():\n",
    "    \n",
    "    def __init__(self):\n",
    "        self.gold = False\n",
    "        self.pit = False\n",
    "        self.wumpus = False\n",
    "        self.breeze = False\n",
    "        self.stench = False\n",
    "        self.adj = []\n",
    "        self.neighbor = []\n",
    "        self.posi = []\n",
    "\n",
    "\n",
    "class make_wumpus_world:\n",
    "    def __init__(self,parent_screen,n):\n",
    "        \n",
    "        self.size = n\n",
    "        self.blocks = [block() for i in range(n**2)]\n",
    "        random_sample = random.sample(self.blocks[1:],2+int(0.2 * (n**2)))\n",
    "        self.start = [self.blocks[0]]\n",
    "        self.gold = [random_sample[0]]\n",
    "        self.wumpus = [random_sample[1]]\n",
    "        self.pits = random_sample[2:]\n",
    "        self.set_grid()\n",
    "        #self.grid = np.flipud(self.grid)\n",
    "        self.agent = make_agent(self.size)\n",
    "        \n",
    "        self.im_wumpus = pygame.image.load(r'wumpus_image.png').convert_alpha()\n",
    "        self.im_gold = pygame.image.load(r'gold.png').convert_alpha()\n",
    "        self.im_pit = pygame.image.load(r'pit.png').convert_alpha()\n",
    "        self.im_breeze = pygame.image.load(r'breeze.png').convert_alpha()\n",
    "        self.im_stench = pygame.image.load(r'stench.png').convert_alpha()\n",
    "        \n",
    "        self.im_wumpus.set_alpha(150)\n",
    "        self.im_gold.set_alpha(150)\n",
    "        self.im_pit.set_alpha(120)\n",
    "        self.im_breeze.set_alpha(70)\n",
    "        self.im_stench.set_alpha(70)\n",
    "        \n",
    "        self.sizz = 100\n",
    "        self.parent_screen = parent_screen\n",
    "   \n",
    "    def set_grid(self):\n",
    "        \n",
    "        self.grid = np.asarray(self.blocks).reshape(self.size,self.size)\n",
    "        self.grid = np.flipud(self.grid)\n",
    "        self.get_nie()\n",
    "        self.gold[0].gold = True\n",
    "        self.wumpus[0].wumpus = True\n",
    "        for i in self.wumpus[0].neighbor:\n",
    "            i.stench = True\n",
    "        for i in self.pits:\n",
    "            i.pit = True\n",
    "            for j in i.neighbor:\n",
    "                j.breeze = True\n",
    "        \n",
    "    def get_nie(self):\n",
    "        for i in range(self.size):\n",
    "            for j in range(self.size):\n",
    "                self.grid[i,j].posi = [i,j]\n",
    "                if(i!=0):\n",
    "                    self.grid[i,j].neighbor.append(self.grid[i-1,j])\n",
    "                if(j!=self.size-1):\n",
    "                    self.grid[i,j].neighbor.append(self.grid[i,j+1])\n",
    "                if(i!=self.size-1):\n",
    "                    self.grid[i,j].neighbor.append(self.grid[i+1,j])\n",
    "                if(j!=0):\n",
    "                    self.grid[i,j].neighbor.append(self.grid[i,j-1])\n",
    "                    \n",
    "    \n",
    "    def draw_block(self,block,k,l):\n",
    "        \n",
    "        if(self.agent.currant==[k,l]):\n",
    "            self.parent_screen.blit(self.agent.im_agent,((l+1)*self.sizz,(k+1)*self.sizz))\n",
    "\n",
    "        if(block.gold==True):\n",
    "            self.parent_screen.blit(self.im_gold,((l+1)*self.sizz+30,(k+1)*self.sizz))\n",
    "            \n",
    "        if(block.pit==True):\n",
    "            self.parent_screen.blit(self.im_pit,((l+1)*self.sizz,(k+1)*self.sizz))\n",
    "        if(block.wumpus==True):\n",
    "            self.parent_screen.blit(self.im_wumpus,((l+1)*self.sizz,(k+1)*self.sizz))\n",
    "        if(block.breeze==True):\n",
    "            self.parent_screen.blit(self.im_breeze,((l+1)*self.sizz,(k+1)*self.sizz))\n",
    "        if(block.stench==True):\n",
    "            self.parent_screen.blit(self.im_stench,((l+1)*self.sizz,(k+1)*self.sizz))\n",
    "\n",
    "    \n",
    "    def draw_grid(self):\n",
    "        #self.parent_screen.fill((110,110,5))\n",
    "        for i in range(self.size):\n",
    "            for j in range(self.size):\n",
    "                self.draw_block(self.grid[i,j],i,j)\n",
    "            print()\n",
    "            \n",
    "    \n",
    "    \n",
    "    def print_block(self,block,k,l):\n",
    "        string = ''\n",
    "        \n",
    "        \n",
    "        if(self.agent.currant==[k,l]):\n",
    "            string += ' Agent '\n",
    "            \n",
    "            string += self.agent.move_di[self.agent.curr_di][1]\n",
    "                #string += '-> '\n",
    "\n",
    "            \n",
    "        if(block.gold==True):\n",
    "            string += ' gold '\n",
    "            \n",
    "        if(block.pit==True):\n",
    "            string += ' pit '\n",
    "        if(block.wumpus==True):\n",
    "            string += ' wumpus '\n",
    "        if(block.breeze==True):\n",
    "            string += ' breeze '\n",
    "        if(block.stench==True):\n",
    "            string += ' stench '\n",
    "        return string\n",
    "            \n",
    "            \n",
    "    def print_grid(self):\n",
    "        for i in range(self.size):\n",
    "            for j in range(self.size):\n",
    "                print(np.char.center(self.print_block(self.grid[i,j],i,j),25),end='')\n",
    "            print()\n",
    "            \n",
    "    \n",
    "    def shoot_arrow(self):\n",
    "        temp = self.agent.currant\n",
    "        while(not((self.agent.curr_di==0 and temp[1]==self.size-1) or (self.agent.curr_di==1 and temp[0]==0) or (self.agent.curr_di==2 and temp[1]==0) or (self.agent.curr_di==3 and temp[0]==self.size-1))):\n",
    "            temp = [sum(i) for i in zip(temp, self.agent.move_di[self.agent.curr_di][0])]\n",
    "            if(self.check_wumpus()):\n",
    "                self.grid[temp[0],temp[1]].wumpus = False\n",
    "            \n",
    "            print(\"Done\")\n",
    "            \n",
    "    def check_gold(self):\n",
    "        if(self.grid[self.agent.currant[0],self.agent.currant[1]].gold==True):\n",
    "            return True\n",
    "        return False\n",
    "    \n",
    "    def check_wumpus(self):\n",
    "        if(self.grid[self.agent.currant[0],self.agent.currant[1]].wumpus==True):\n",
    "            return True\n",
    "        return False\n",
    "            \n",
    "    def check_pit(self):\n",
    "        if(self.grid[self.agent.currant[0],self.agent.currant[1]].pit==True):\n",
    "            return True\n",
    "        return False\n",
    "    \n",
    "    \n",
    "class Game:\n",
    "    def __init__(self):\n",
    "        pygame.init()\n",
    "        pygame.display.set_caption('Wupus Game')\n",
    "        self.surface = pygame.display.set_mode((1000,600))\n",
    "        pygame.mixer.init()\n",
    "        self.surface.fill((110,110,5))\n",
    "        self.wumpus_world = make_wumpus_world(self.surface,4)\n",
    "        self.wumpus_world.draw_grid()\n",
    "        self.wumpus_world.print_grid()\n",
    "        self.text_show()\n",
    "        pygame.display.flip()\n",
    "        self.run()\n",
    "        \n",
    "    def play(self):\n",
    "        pygame.display.flip()\n",
    "        \n",
    "        if(self.wumpus_world.check_gold()):\n",
    "            self.game_win()\n",
    "        \n",
    "        elif(self.wumpus_world.check_wumpus()):\n",
    "            self.game_over()\n",
    "            \n",
    "        elif(self.wumpus_world.check_pit()):\n",
    "            self.game_over()\n",
    "        \n",
    "        pygame.display.flip()\n",
    "            \n",
    "            \n",
    "    \n",
    "    def run(self):\n",
    "        \n",
    "        running = True\n",
    "        pause = False\n",
    "        while running:\n",
    "            for event in pygame.event.get():\n",
    "                if event.type == KEYDOWN:\n",
    "                    if event.key == K_ESCAPE:\n",
    "                        running =  False\n",
    "                    if event.key == K_UP:\n",
    "                        self.wumpus_world.agent.move_forward()\n",
    "                    if event.key == K_LEFT:\n",
    "                        self.wumpus_world.agent.make_turn('left')\n",
    "                    if event.key == K_RIGHT:\n",
    "                        self.wumpus_world.agent.make_turn('right')\n",
    "                    if event.key == K_DOWN:\n",
    "                        print(\"HIII\")\n",
    "                        self.wumpus_world.shoot_arrow()\n",
    "                        \n",
    "                    self.surface.fill((110,110,5))\n",
    "                    self.wumpus_world.draw_grid()\n",
    "                    self.wumpus_world.print_grid()\n",
    "                    self.text_show()\n",
    "\n",
    "                    \n",
    "                    #time.sleep(0.3)\n",
    "                \n",
    "                elif event.type == QUIT:\n",
    "                    running = False\n",
    "            self.play()\n",
    "            try:\n",
    "                if not pause:\n",
    "                    self.play()\n",
    "            except Exception as e:\n",
    "                #self.show_game_over()\n",
    "                pause = True\n",
    "                #self.reset()\n",
    "                    \n",
    "    def text_show(self):\n",
    "        \n",
    "        \n",
    "        font1 = pygame.font.SysFont('arial',45)\n",
    "        font2 = pygame.font.SysFont('arial',30)\n",
    "        \n",
    "        self.im_arrow = pygame.transform.scale(pygame.image.load(r'Arrow.png'),(50,50))\n",
    "        \n",
    "        score = font1.render(\"Wumpus World\",True,(255,255,255))\n",
    "        self.surface.blit(score,(650,100))\n",
    "        \n",
    "        \n",
    "        score = font2.render(\" Move Forword \",True,(255,255,255))\n",
    "        self.surface.blit(score,(650,200))\n",
    "        self.surface.blit(pygame.transform.rotate(self.im_arrow,180),(850,190))\n",
    "        \n",
    "        score = font2.render(\"   Turn Right \",True,(255,255,255))\n",
    "        self.surface.blit(score,(650,270))\n",
    "        self.surface.blit(pygame.transform.rotate(self.im_arrow,-90),(850,260))\n",
    "        \n",
    "        score = font2.render(\"    Turn Left \",True,(255,255,255))\n",
    "        self.surface.blit(score,(650,340))\n",
    "        self.surface.blit(pygame.transform.rotate(self.im_arrow,90),(850,330))\n",
    "        \n",
    "    def game_win(self):\n",
    "        font3 = pygame.font.SysFont('arial',50)\n",
    "        self.surface.fill((110,110,5))\n",
    "        score = font3.render(\" winner \",True,(255,255,255))\n",
    "        self.surface.blit(score,(400,400))\n",
    "        \n",
    "    def game_over(self):\n",
    "        font3 = pygame.font.SysFont('arial',50)\n",
    "        self.surface.fill((110,110,5))\n",
    "        score = font3.render(\" Game Over \",True,(255,255,255))\n",
    "        self.surface.blit(score,(400,400))"
   ]
  },
  {
   "cell_type": "code",
   "execution_count": 3,
   "id": "f26ac8f3",
   "metadata": {
    "scrolled": true
   },
   "outputs": [
    {
     "name": "stdout",
     "output_type": "stream",
     "text": [
      "\n",
      "\n",
      "\n",
      "\n",
      "          breeze                   breeze                    pit                     breeze         \n",
      "           pit                     breeze                   breeze                                  \n",
      "          breeze                gold  breeze                 pit                 breeze  stench     \n",
      "         Agent ->                                       breeze  stench               wumpus         \n",
      "\n",
      "\n",
      "\n",
      "\n",
      "          breeze                   breeze                    pit                     breeze         \n",
      "           pit                     breeze                   breeze                                  \n",
      "          breeze                gold  breeze                 pit                 breeze  stench     \n",
      "                                  Agent ->              breeze  stench               wumpus         \n",
      "\n",
      "\n",
      "\n",
      "\n",
      "          breeze                   breeze                    pit                     breeze         \n",
      "           pit                     breeze                   breeze                                  \n",
      "          breeze                gold  breeze                 pit                 breeze  stench     \n",
      "                                  Agent |^              breeze  stench               wumpus         \n",
      "\n",
      "\n",
      "\n",
      "\n",
      "          breeze                   breeze                    pit                     breeze         \n",
      "           pit                     breeze                   breeze                                  \n",
      "          breeze           Agent |^  gold  breeze            pit                 breeze  stench     \n",
      "                                                        breeze  stench               wumpus         \n"
     ]
    }
   ],
   "source": [
    "kll = Game()"
   ]
  },
  {
   "cell_type": "code",
   "execution_count": null,
   "id": "37ef280f",
   "metadata": {},
   "outputs": [],
   "source": [
    "\n",
    "gg= make_wumpus_world(0,4)"
   ]
  },
  {
   "cell_type": "code",
   "execution_count": null,
   "id": "1ce0f60e",
   "metadata": {},
   "outputs": [],
   "source": [
    "gg.print_grid()"
   ]
  },
  {
   "cell_type": "code",
   "execution_count": null,
   "id": "609599b9",
   "metadata": {},
   "outputs": [],
   "source": [
    "gg.agent.make_turn()\n",
    "gg.print_grid()"
   ]
  },
  {
   "cell_type": "code",
   "execution_count": null,
   "id": "83b36ab6",
   "metadata": {},
   "outputs": [],
   "source": [
    "gg.agent.move_forward()\n",
    "gg.print_grid()"
   ]
  },
  {
   "cell_type": "code",
   "execution_count": null,
   "id": "1a8ddc7f",
   "metadata": {},
   "outputs": [],
   "source": [
    "for m in gg.grid[0,1].neighbor:\n",
    "    print(m.posi)"
   ]
  },
  {
   "cell_type": "code",
   "execution_count": null,
   "id": "db1d2cba",
   "metadata": {},
   "outputs": [],
   "source": []
  },
  {
   "cell_type": "code",
   "execution_count": null,
   "id": "d8dd38d3",
   "metadata": {},
   "outputs": [],
   "source": [
    "import os\n",
    "os.chdir(r'D:\\Coding\\python\\pygame\\wumpus-world')"
   ]
  },
  {
   "cell_type": "code",
   "execution_count": null,
   "id": "fd2f9e02",
   "metadata": {},
   "outputs": [],
   "source": [
    "os.listdir()"
   ]
  },
  {
   "cell_type": "code",
   "execution_count": null,
   "id": "9a7cb178",
   "metadata": {},
   "outputs": [],
   "source": [
    "[0]*4"
   ]
  },
  {
   "cell_type": "code",
   "execution_count": 7,
   "id": "9ece819f",
   "metadata": {},
   "outputs": [],
   "source": [
    "class Game:\n",
    "    def __init__(self):\n",
    "        pygame.init()\n",
    "        self.surface = pygame.display.set_mode((1000,600))\n",
    "        self.surface.fill((110,110,5))\n",
    "        pygame.mixer.init()\n",
    "        pygame.display.flip()\n",
    "        running = True\n",
    "        print('on')\n",
    "        while running:\n",
    "            for event in pygame.event.get():\n",
    "                if event.type == QUIT:\n",
    "                    running = False"
   ]
  },
  {
   "cell_type": "code",
   "execution_count": 8,
   "id": "177c2944",
   "metadata": {},
   "outputs": [
    {
     "name": "stdout",
     "output_type": "stream",
     "text": [
      "on\n"
     ]
    },
    {
     "data": {
      "text/plain": [
       "<__main__.Game at 0x16f6861d340>"
      ]
     },
     "execution_count": 8,
     "metadata": {},
     "output_type": "execute_result"
    }
   ],
   "source": [
    "Game()"
   ]
  },
  {
   "cell_type": "code",
   "execution_count": 46,
   "id": "af2fc1f5",
   "metadata": {},
   "outputs": [],
   "source": [
    "currunt = [3,0]"
   ]
  },
  {
   "cell_type": "code",
   "execution_count": 51,
   "id": "2bbe867b",
   "metadata": {},
   "outputs": [],
   "source": [
    "def get_nie(size):\n",
    "    neighbor = [[[] for i in range(size)] for j in range(size)]\n",
    "    for i in range(size):\n",
    "        for j in range(size):\n",
    "            if(i!=0):\n",
    "                neighbor[i][j].append(f'{i-1}{j}')\n",
    "            if(j!=size-1):\n",
    "                neighbor[i][j].append(f'{i}{j+1}')\n",
    "            if(i!=size-1):\n",
    "                neighbor[i][j].append(f'{i+1}{j}')\n",
    "            if(j!=0):\n",
    "                neighbor[i][j].append(f'{i}{j-1}')\n",
    "    return neighbor"
   ]
  },
  {
   "cell_type": "code",
   "execution_count": 52,
   "id": "6a080a68",
   "metadata": {},
   "outputs": [],
   "source": [
    "neighbor = get_nie(4)"
   ]
  },
  {
   "cell_type": "code",
   "execution_count": null,
   "id": "22300f2b",
   "metadata": {},
   "outputs": [],
   "source": []
  },
  {
   "cell_type": "code",
   "execution_count": 30,
   "id": "67a73fee",
   "metadata": {},
   "outputs": [],
   "source": [
    "def join_sym(smb,terms,extra='',extra2=''):\n",
    "    temp = f'{smb}('\n",
    "    for i in terms:\n",
    "        temp = temp +f' {extra}{i}{extra2},'\n",
    "    temp = temp[:-1] + ')'\n",
    "    return temp"
   ]
  },
  {
   "cell_type": "code",
   "execution_count": 57,
   "id": "0098c82f",
   "metadata": {},
   "outputs": [],
   "source": [
    "def get_breeze():\n",
    "    i = currunt[0]\n",
    "    j = currunt[1]\n",
    "    temp_r = join_sym(\"Biconditional\",[f\"di['B{i}{j}']\",join_sym('Or',neighbor[i][j],\"di['P\",\"']\")])\n",
    "    print(temp_r)\n",
    "    return temp_r"
   ]
  },
  {
   "cell_type": "code",
   "execution_count": 58,
   "id": "35808975",
   "metadata": {},
   "outputs": [
    {
     "name": "stdout",
     "output_type": "stream",
     "text": [
      "Biconditional( di['B30'], Or( di['P20'], di['P31']))\n"
     ]
    }
   ],
   "source": [
    "r1 = get_breeze()"
   ]
  },
  {
   "cell_type": "code",
   "execution_count": 65,
   "id": "3c8ad51b",
   "metadata": {},
   "outputs": [],
   "source": [
    "i = 3\n",
    "j = 0\n",
    "ii =0\n",
    "jj =1"
   ]
  },
  {
   "cell_type": "code",
   "execution_count": 62,
   "id": "5f885586",
   "metadata": {},
   "outputs": [
    {
     "data": {
      "text/plain": [
       "\"Biconditional( di['S30'], Or( di['W20'], di['W31']))\""
      ]
     },
     "execution_count": 62,
     "metadata": {},
     "output_type": "execute_result"
    }
   ],
   "source": [
    "join_sym(\"Biconditional\",[f\"di['S{i}{j}']\",join_sym('Or',neighbor[i][j],\"di['W\",\"']\")])"
   ]
  },
  {
   "cell_type": "code",
   "execution_count": 66,
   "id": "fadb687c",
   "metadata": {},
   "outputs": [
    {
     "data": {
      "text/plain": [
       "\"Or( Not( di['G30']), Not( di['G01']))\""
      ]
     },
     "execution_count": 66,
     "metadata": {},
     "output_type": "execute_result"
    }
   ],
   "source": [
    "join_sym(\"Or\",[join_sym('Not',[f\"di['G{i}{j}']\"]),join_sym('Not',[f\"di['G{ii}{jj}']\"])])"
   ]
  },
  {
   "cell_type": "code",
   "execution_count": null,
   "id": "deb98063",
   "metadata": {},
   "outputs": [],
   "source": [
    "join_sym('Not',['K'])"
   ]
  },
  {
   "cell_type": "code",
   "execution_count": 67,
   "id": "5a497e6c",
   "metadata": {},
   "outputs": [],
   "source": [
    "matrix_2d = np.zeros((3,2))"
   ]
  },
  {
   "cell_type": "code",
   "execution_count": 73,
   "id": "888da47e",
   "metadata": {},
   "outputs": [
    {
     "data": {
      "text/plain": [
       "0.0"
      ]
     },
     "execution_count": 73,
     "metadata": {},
     "output_type": "execute_result"
    }
   ],
   "source": [
    "matrix_2d[1,0]"
   ]
  },
  {
   "cell_type": "code",
   "execution_count": 74,
   "id": "5b2f55bf",
   "metadata": {},
   "outputs": [],
   "source": [
    "kk = {0:'5',1:'8'}"
   ]
  },
  {
   "cell_type": "code",
   "execution_count": 77,
   "id": "ca9ef8b7",
   "metadata": {},
   "outputs": [
    {
     "data": {
      "text/plain": [
       "'8'"
      ]
     },
     "execution_count": 77,
     "metadata": {},
     "output_type": "execute_result"
    }
   ],
   "source": [
    "kk[1]"
   ]
  },
  {
   "cell_type": "code",
   "execution_count": 81,
   "id": "d988b02b",
   "metadata": {},
   "outputs": [
    {
     "data": {
      "text/plain": [
       "'( k)'"
      ]
     },
     "execution_count": 81,
     "metadata": {},
     "output_type": "execute_result"
    }
   ],
   "source": [
    "join_sym('',['k'])"
   ]
  },
  {
   "cell_type": "code",
   "execution_count": null,
   "id": "6ca1329b",
   "metadata": {},
   "outputs": [],
   "source": [
    "eval"
   ]
  }
 ],
 "metadata": {
  "kernelspec": {
   "display_name": "Python 3 (ipykernel)",
   "language": "python",
   "name": "python3"
  },
  "language_info": {
   "codemirror_mode": {
    "name": "ipython",
    "version": 3
   },
   "file_extension": ".py",
   "mimetype": "text/x-python",
   "name": "python",
   "nbconvert_exporter": "python",
   "pygments_lexer": "ipython3",
   "version": "3.9.13"
  }
 },
 "nbformat": 4,
 "nbformat_minor": 5
}
