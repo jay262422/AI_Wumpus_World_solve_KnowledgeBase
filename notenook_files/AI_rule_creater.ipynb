{
 "cells": [
  {
   "cell_type": "code",
   "execution_count": 17,
   "id": "d5a34c6c",
   "metadata": {},
   "outputs": [],
   "source": [
    "#import itertools\n",
    "\n",
    "\n",
    "class Sentence():\n",
    "\n",
    "    def evaluate(self, model):\n",
    "        \"\"\"Evaluates the logical sentence.\"\"\"\n",
    "        raise Exception(\"nothing to evaluate\")\n",
    "\n",
    "    def formula(self):\n",
    "        \"\"\"Returns string formula representing logical sentence.\"\"\"\n",
    "        return \"\"\n",
    "\n",
    "    def symbols(self):\n",
    "        \"\"\"Returns a set of all symbols in the logical sentence.\"\"\"\n",
    "        return set()\n",
    "\n",
    "    @classmethod\n",
    "    def validate(cls, sentence):\n",
    "        if not isinstance(sentence, Sentence):\n",
    "            raise TypeError(\"must be a logical sentence\")\n",
    "\n",
    "    @classmethod\n",
    "    def parenthesize(cls, s):\n",
    "        \"\"\"Parenthesizes an expression if not already parenthesized.\"\"\"\n",
    "        def balanced(s):\n",
    "            \"\"\"Checks if a string has balanced parentheses.\"\"\"\n",
    "            count = 0\n",
    "            for c in s:\n",
    "                if c == \"(\":\n",
    "                    count += 1\n",
    "                elif c == \")\":\n",
    "                    if count <= 0:\n",
    "                        return False\n",
    "                    count -= 1\n",
    "            return count == 0\n",
    "        if not len(s) or s.isalpha() or (\n",
    "            s[0] == \"(\" and s[-1] == \")\" and balanced(s[1:-1])\n",
    "        ):\n",
    "            return s\n",
    "        else:\n",
    "            return f\"({s})\"\n",
    "\n",
    "\n",
    "class Symbol():\n",
    "\n",
    "    def __init__(self, name):\n",
    "        self.name = name\n",
    "\n",
    "    def __eq__(self, other):\n",
    "        return isinstance(other, Symbol) and self.name == other.name\n",
    "\n",
    "    def __hash__(self):\n",
    "        return hash((\"symbol\", self.name))\n",
    "\n",
    "    def __repr__(self):\n",
    "        return self.name\n",
    "\n",
    "    def evaluate(self, model):\n",
    "        try:\n",
    "            return bool(model[self.name])\n",
    "        except KeyError:\n",
    "            raise EvaluationException(f\"variable {self.name} not in model\")\n",
    "\n",
    "    def formula(self):\n",
    "        return self.name\n",
    "\n",
    "    def symbols(self):\n",
    "        return {self.name}\n",
    "\n",
    "\n",
    "class Not():\n",
    "    def __init__(self, operand):\n",
    "        #Sentence.validate(operand)\n",
    "        self.operand = operand\n",
    "\n",
    "    def __eq__(self, other):\n",
    "        return isinstance(other, Not) and self.operand == other.operand\n",
    "\n",
    "    def __hash__(self):\n",
    "        return hash((\"not\", hash(self.operand)))\n",
    "\n",
    "    def __repr__(self):\n",
    "        return f\"Not({self.operand})\"\n",
    "\n",
    "    def evaluate(self, model):\n",
    "        return not self.operand.evaluate(model)\n",
    "\n",
    "    def formula(self):\n",
    "        return \"Â¬\" + Sentence.parenthesize(self.operand.formula())\n",
    "\n",
    "    def symbols(self):\n",
    "        return self.operand.symbols()\n",
    "\n",
    "\n",
    "class And():\n",
    "    def __init__(self, *conjuncts):\n",
    "        #for conjunct in conjuncts:\n",
    "           # Sentence.validate(conjunct)\n",
    "        self.conjuncts = list(conjuncts)\n",
    "\n",
    "    def __eq__(self, other):\n",
    "        return isinstance(other, And) and self.conjuncts == other.conjuncts\n",
    "\n",
    "    def __hash__(self):\n",
    "        return hash(\n",
    "            (\"and\", tuple(hash(conjunct) for conjunct in self.conjuncts))\n",
    "        )\n",
    "\n",
    "    def __repr__(self):\n",
    "        conjunctions = \", \".join(\n",
    "            [str(conjunct) for conjunct in self.conjuncts]\n",
    "        )\n",
    "        return f\"And({conjunctions})\"\n",
    "\n",
    "    def add(self, conjunct):\n",
    "        #Sentence.validate(conjunct)\n",
    "        self.conjuncts.append(conjunct)\n",
    "\n",
    "    def evaluate(self, model):\n",
    "        return all(conjunct.evaluate(model) for conjunct in self.conjuncts)\n",
    "\n",
    "    def formula(self):\n",
    "        if len(self.conjuncts) == 1:\n",
    "            return self.conjuncts[0].formula()\n",
    "        return \" âˆ§ \".join([Sentence.parenthesize(conjunct.formula())\n",
    "                           for conjunct in self.conjuncts])\n",
    "\n",
    "    def symbols(self):\n",
    "        return set.union(*[conjunct.symbols() for conjunct in self.conjuncts])\n",
    "\n",
    "\n",
    "class Or():\n",
    "    def __init__(self, *disjuncts):\n",
    "        #for disjunct in disjuncts:\n",
    "           # Sentence.validate(disjunct)\n",
    "        self.disjuncts = list(disjuncts)\n",
    "\n",
    "    def __eq__(self, other):\n",
    "        return isinstance(other, Or) and self.disjuncts == other.disjuncts\n",
    "\n",
    "    def __hash__(self):\n",
    "        return hash(\n",
    "            (\"or\", tuple(hash(disjunct) for disjunct in self.disjuncts))\n",
    "        )\n",
    "\n",
    "    def __repr__(self):\n",
    "        disjuncts = \", \".join([str(disjunct) for disjunct in self.disjuncts])\n",
    "        return f\"Or({disjuncts})\"\n",
    "\n",
    "    def evaluate(self, model):\n",
    "        return any(disjunct.evaluate(model) for disjunct in self.disjuncts)\n",
    "\n",
    "    def formula(self):\n",
    "        if len(self.disjuncts) == 1:\n",
    "            return self.disjuncts[0].formula()\n",
    "        return \" âˆ¨  \".join([Sentence.parenthesize(disjunct.formula())\n",
    "                            for disjunct in self.disjuncts])\n",
    "\n",
    "    def symbols(self):\n",
    "        return set.union(*[disjunct.symbols() for disjunct in self.disjuncts])\n",
    "\n",
    "\n",
    "class Implication():\n",
    "    def __init__(self, antecedent, consequent):\n",
    "        #Sentence.validate(antecedent)\n",
    "        #Sentence.validate(consequent)\n",
    "        self.antecedent = antecedent\n",
    "        self.consequent = consequent\n",
    "\n",
    "    def __eq__(self, other):\n",
    "        return (isinstance(other, Implication)\n",
    "                and self.antecedent == other.antecedent\n",
    "                and self.consequent == other.consequent)\n",
    "\n",
    "    def __hash__(self):\n",
    "        return hash((\"implies\", hash(self.antecedent), hash(self.consequent)))\n",
    "\n",
    "    def __repr__(self):\n",
    "        return f\"Implication({self.antecedent}, {self.consequent})\"\n",
    "\n",
    "    def evaluate(self, model):\n",
    "        return ((not self.antecedent.evaluate(model))\n",
    "                or self.consequent.evaluate(model))\n",
    "\n",
    "    def formula(self):\n",
    "        antecedent = Sentence.parenthesize(self.antecedent.formula())\n",
    "        consequent = Sentence.parenthesize(self.consequent.formula())\n",
    "        return f\"{antecedent} => {consequent}\"\n",
    "\n",
    "    def symbols(self):\n",
    "        return set.union(self.antecedent.symbols(), self.consequent.symbols())\n",
    "\n",
    "\n",
    "class Biconditional():\n",
    "    def __init__(self, left, right):\n",
    "       # Sentence.validate(left)\n",
    "       # Sentence.validate(right)\n",
    "        self.left = left\n",
    "        self.right = right\n",
    "\n",
    "    def __eq__(self, other):\n",
    "        return (isinstance(other, Biconditional)\n",
    "                and self.left == other.left\n",
    "                and self.right == other.right)\n",
    "\n",
    "    def __hash__(self):\n",
    "        return hash((\"biconditional\", hash(self.left), hash(self.right)))\n",
    "\n",
    "    def __repr__(self):\n",
    "        return f\"Biconditional({self.left}, {self.right})\"\n",
    "\n",
    "    def evaluate(self, model):\n",
    "        return ((self.left.evaluate(model)\n",
    "                 and self.right.evaluate(model))\n",
    "                or (not self.left.evaluate(model)\n",
    "                    and not self.right.evaluate(model)))\n",
    "\n",
    "    def formula(self):\n",
    "        left = Sentence.parenthesize(str(self.left))\n",
    "        right = Sentence.parenthesize(str(self.right))\n",
    "        return f\"{left} <=> {right}\"\n",
    "\n",
    "    def symbols(self):\n",
    "        return set.union(self.left.symbols(), self.right.symbols())\n",
    "\n",
    "\n",
    "def model_check(knowledge, query):\n",
    "    \"\"\"Checks if knowledge base entails query.\"\"\"\n",
    "\n",
    "    def check_all(knowledge, query, symbols, model):\n",
    "        \"\"\"Checks if knowledge base entails query, given a particular model.\"\"\"\n",
    "\n",
    "        # If model has an assignment for each symbol\n",
    "        if not symbols:\n",
    "\n",
    "            # If knowledge base is true in model, then query must also be true\n",
    "            if knowledge.evaluate(model):\n",
    "                print(\"ll\")\n",
    "                print(model)\n",
    "                return query.evaluate(model)\n",
    "                print(model)\n",
    "            return True\n",
    "        else:\n",
    "\n",
    "            # Choose one of the remaining unused symbols\n",
    "            remaining = symbols.copy()\n",
    "            p = remaining.pop()\n",
    "\n",
    "            # Create a model where the symbol is true\n",
    "            model_true = model.copy()\n",
    "            model_true[p] = True\n",
    "\n",
    "            # Create a model where the symbol is false\n",
    "            model_false = model.copy()\n",
    "            model_false[p] = False\n",
    "\n",
    "            # Ensure entailment holds in both models\n",
    "            return (check_all(knowledge, query, remaining, model_true) and\n",
    "                    check_all(knowledge, query, remaining, model_false))\n",
    "\n",
    "    # Get all symbols in both knowledge and query\n",
    "    symbols = set.union(knowledge.symbols(), query.symbols())\n",
    "\n",
    "    # Check that knowledge entails query\n",
    "    return check_all(knowledge, query, symbols, dict())"
   ]
  },
  {
   "cell_type": "code",
   "execution_count": 2,
   "id": "8837e602",
   "metadata": {},
   "outputs": [
    {
     "name": "stdout",
     "output_type": "stream",
     "text": [
      "ll\n",
      "{'hagrid': False, 'dumbledore': True, 'rain': True}\n",
      "False\n"
     ]
    }
   ],
   "source": [
    "rain = Symbol(\"rain\")\n",
    "hagrid = Symbol(\"hagrid\")\n",
    "dumbledore = Symbol(\"dumbledore\")\n",
    "\n",
    "knowledge = And(\n",
    "    Implication(Not(rain), hagrid),\n",
    "    Or(hagrid, dumbledore),\n",
    "    Not(hagrid)\n",
    ")\n",
    "#Or(hagrid, dumbledore),\n",
    "    #Not(And(hagrid, dumbledore)),\n",
    "    #dumbledore\n",
    "print(model_check(knowledge, hagrid))"
   ]
  },
  {
   "cell_type": "code",
   "execution_count": null,
   "id": "a3d2a761",
   "metadata": {},
   "outputs": [],
   "source": [
    "knowledge.conjuncts"
   ]
  },
  {
   "cell_type": "code",
   "execution_count": null,
   "id": "dbde3973",
   "metadata": {},
   "outputs": [],
   "source": [
    "rain"
   ]
  },
  {
   "cell_type": "code",
   "execution_count": null,
   "id": "d967e943",
   "metadata": {},
   "outputs": [],
   "source": [
    "hash(And)"
   ]
  },
  {
   "cell_type": "code",
   "execution_count": null,
   "id": "c968563e",
   "metadata": {},
   "outputs": [],
   "source": [
    "knowledge.conjuncts"
   ]
  },
  {
   "cell_type": "code",
   "execution_count": null,
   "id": "fa337deb",
   "metadata": {},
   "outputs": [],
   "source": [
    "hash(\n",
    "            (\"and\", tuple(hash(conjunct) for conjunct in knowledge.conjuncts))\n",
    "        )\n"
   ]
  },
  {
   "cell_type": "code",
   "execution_count": null,
   "id": "c393ee21",
   "metadata": {},
   "outputs": [],
   "source": [
    "(\"and\", tuple(hash(conjunct) for conjunct in knowledge.conjuncts))"
   ]
  },
  {
   "cell_type": "code",
   "execution_count": null,
   "id": "4c38755c",
   "metadata": {},
   "outputs": [],
   "source": [
    "hash(knowledge)"
   ]
  },
  {
   "cell_type": "code",
   "execution_count": null,
   "id": "a6e9520d",
   "metadata": {},
   "outputs": [],
   "source": [
    "knowledge"
   ]
  },
  {
   "cell_type": "code",
   "execution_count": null,
   "id": "91e270d7",
   "metadata": {},
   "outputs": [],
   "source": [
    "knowledge.symbols()"
   ]
  },
  {
   "cell_type": "code",
   "execution_count": null,
   "id": "abb8e5c3",
   "metadata": {},
   "outputs": [],
   "source": [
    "rain.symbols()"
   ]
  },
  {
   "cell_type": "code",
   "execution_count": null,
   "id": "de881cb5",
   "metadata": {},
   "outputs": [],
   "source": [
    "set.union(knowledge.symbols(),rain.symbols())"
   ]
  },
  {
   "cell_type": "code",
   "execution_count": null,
   "id": "c0228eca",
   "metadata": {},
   "outputs": [],
   "source": [
    "set.union(*[conjunct.symbols() for conjunct in knowledge.conjuncts])"
   ]
  },
  {
   "cell_type": "code",
   "execution_count": null,
   "id": "f62a1a6f",
   "metadata": {},
   "outputs": [],
   "source": [
    "knowledge.formula()"
   ]
  },
  {
   "cell_type": "code",
   "execution_count": null,
   "id": "4e6e3bbd",
   "metadata": {},
   "outputs": [],
   "source": [
    "symbols = set.union(knowledge.symbols(),rain.symbols())\n",
    "remaining = symbols.copy()\n",
    "p = remaining.pop()"
   ]
  },
  {
   "cell_type": "code",
   "execution_count": null,
   "id": "7b9d6949",
   "metadata": {},
   "outputs": [],
   "source": [
    "remaining"
   ]
  },
  {
   "cell_type": "code",
   "execution_count": null,
   "id": "13e66ab9",
   "metadata": {},
   "outputs": [],
   "source": [
    "knowledge.evaluate({'rain': True, 'dumbledore': True, 'hagrid': False})"
   ]
  },
  {
   "cell_type": "code",
   "execution_count": null,
   "id": "a872efac",
   "metadata": {},
   "outputs": [],
   "source": [
    "rain.evaluate({'rain': False, 'dumbledore': True, 'hagrid': True})"
   ]
  },
  {
   "cell_type": "code",
   "execution_count": null,
   "id": "c971110d",
   "metadata": {},
   "outputs": [],
   "source": []
  },
  {
   "cell_type": "code",
   "execution_count": null,
   "id": "29c6e8e6",
   "metadata": {},
   "outputs": [],
   "source": []
  },
  {
   "cell_type": "code",
   "execution_count": null,
   "id": "a9423159",
   "metadata": {},
   "outputs": [],
   "source": [
    "rain.evaluate()"
   ]
  },
  {
   "cell_type": "code",
   "execution_count": null,
   "id": "7a0c82bc",
   "metadata": {},
   "outputs": [],
   "source": []
  },
  {
   "cell_type": "code",
   "execution_count": null,
   "id": "7363f41a",
   "metadata": {},
   "outputs": [],
   "source": []
  },
  {
   "cell_type": "code",
   "execution_count": null,
   "id": "5f581dbf",
   "metadata": {},
   "outputs": [],
   "source": []
  },
  {
   "cell_type": "code",
   "execution_count": null,
   "id": "8e8f5b49",
   "metadata": {},
   "outputs": [],
   "source": []
  },
  {
   "cell_type": "code",
   "execution_count": null,
   "id": "faf0cf05",
   "metadata": {},
   "outputs": [],
   "source": []
  },
  {
   "cell_type": "code",
   "execution_count": null,
   "id": "33346863",
   "metadata": {},
   "outputs": [],
   "source": []
  },
  {
   "cell_type": "code",
   "execution_count": null,
   "id": "1bd8e0f5",
   "metadata": {},
   "outputs": [],
   "source": []
  },
  {
   "cell_type": "code",
   "execution_count": null,
   "id": "3765d7cc",
   "metadata": {},
   "outputs": [],
   "source": []
  },
  {
   "cell_type": "code",
   "execution_count": null,
   "id": "87adda12",
   "metadata": {},
   "outputs": [],
   "source": []
  },
  {
   "cell_type": "code",
   "execution_count": null,
   "id": "b9566f34",
   "metadata": {},
   "outputs": [],
   "source": []
  },
  {
   "cell_type": "code",
   "execution_count": 3,
   "id": "660fc854",
   "metadata": {},
   "outputs": [],
   "source": [
    "def get_nie(size):\n",
    "    neighbor = [[[] for i in range(size+1)] for j in range(size+1)]\n",
    "    for i in range(1,size+1):\n",
    "        for j in range(1,size+1):\n",
    "            if(i!=1):\n",
    "                neighbor[i][j].append(f'{i-1}{j}')\n",
    "            if(j!=size):\n",
    "                neighbor[i][j].append(f'{i}{j+1}')\n",
    "            if(i!=size):\n",
    "                neighbor[i][j].append(f'{i+1}{j}')\n",
    "            if(j!=1):\n",
    "                neighbor[i][j].append(f'{i}{j-1}')\n",
    "    return neighbor"
   ]
  },
  {
   "cell_type": "code",
   "execution_count": 4,
   "id": "ed4abe5b",
   "metadata": {},
   "outputs": [],
   "source": [
    "neighbors = get_nie(4)"
   ]
  },
  {
   "cell_type": "code",
   "execution_count": 55,
   "id": "5cc631bb",
   "metadata": {},
   "outputs": [],
   "source": [
    "def join_sym(smb,terms,extra='',extra2=''):\n",
    "    temp = f'{smb}('\n",
    "    for i in terms:\n",
    "        temp = temp +f' {extra}{i}{extra2},'\n",
    "    temp = temp[:-1] + ')'\n",
    "    return temp"
   ]
  },
  {
   "cell_type": "code",
   "execution_count": 6,
   "id": "ee516dab",
   "metadata": {},
   "outputs": [
    {
     "data": {
      "text/plain": [
       "'Not( K)'"
      ]
     },
     "execution_count": 6,
     "metadata": {},
     "output_type": "execute_result"
    }
   ],
   "source": [
    "join_sym('Not',['K'])"
   ]
  },
  {
   "cell_type": "code",
   "execution_count": 7,
   "id": "86bdebb5",
   "metadata": {},
   "outputs": [],
   "source": [
    "jj = Or(hagrid, dumbledore)"
   ]
  },
  {
   "cell_type": "code",
   "execution_count": 8,
   "id": "54645ba8",
   "metadata": {},
   "outputs": [
    {
     "data": {
      "text/plain": [
       "False"
      ]
     },
     "execution_count": 8,
     "metadata": {},
     "output_type": "execute_result"
    }
   ],
   "source": [
    "jj.evaluate({'rain': True, 'hagrid': False, 'dumbledore': False})"
   ]
  },
  {
   "cell_type": "code",
   "execution_count": 52,
   "id": "f10f03a0",
   "metadata": {},
   "outputs": [],
   "source": [
    "di = {}\n",
    "lists = ['P','B','G','W']\n",
    "for i in range(0,4):\n",
    "    for j in range(1,5):\n",
    "        for k in lists:\n",
    "            di[f'{k}{i}{j}'] = Symbol(f'{k}{i}{j}')"
   ]
  },
  {
   "cell_type": "code",
   "execution_count": 53,
   "id": "8d7aa443",
   "metadata": {},
   "outputs": [
    {
     "data": {
      "text/plain": [
       "{'P01': P01,\n",
       " 'B01': B01,\n",
       " 'G01': G01,\n",
       " 'W01': W01,\n",
       " 'P02': P02,\n",
       " 'B02': B02,\n",
       " 'G02': G02,\n",
       " 'W02': W02,\n",
       " 'P03': P03,\n",
       " 'B03': B03,\n",
       " 'G03': G03,\n",
       " 'W03': W03,\n",
       " 'P04': P04,\n",
       " 'B04': B04,\n",
       " 'G04': G04,\n",
       " 'W04': W04,\n",
       " 'P11': P11,\n",
       " 'B11': B11,\n",
       " 'G11': G11,\n",
       " 'W11': W11,\n",
       " 'P12': P12,\n",
       " 'B12': B12,\n",
       " 'G12': G12,\n",
       " 'W12': W12,\n",
       " 'P13': P13,\n",
       " 'B13': B13,\n",
       " 'G13': G13,\n",
       " 'W13': W13,\n",
       " 'P14': P14,\n",
       " 'B14': B14,\n",
       " 'G14': G14,\n",
       " 'W14': W14,\n",
       " 'P21': P21,\n",
       " 'B21': B21,\n",
       " 'G21': G21,\n",
       " 'W21': W21,\n",
       " 'P22': P22,\n",
       " 'B22': B22,\n",
       " 'G22': G22,\n",
       " 'W22': W22,\n",
       " 'P23': P23,\n",
       " 'B23': B23,\n",
       " 'G23': G23,\n",
       " 'W23': W23,\n",
       " 'P24': P24,\n",
       " 'B24': B24,\n",
       " 'G24': G24,\n",
       " 'W24': W24,\n",
       " 'P31': P31,\n",
       " 'B31': B31,\n",
       " 'G31': G31,\n",
       " 'W31': W31,\n",
       " 'P32': P32,\n",
       " 'B32': B32,\n",
       " 'G32': G32,\n",
       " 'W32': W32,\n",
       " 'P33': P33,\n",
       " 'B33': B33,\n",
       " 'G33': G33,\n",
       " 'W33': W33,\n",
       " 'P34': P34,\n",
       " 'B34': B34,\n",
       " 'G34': G34,\n",
       " 'W34': W34}"
      ]
     },
     "execution_count": 53,
     "metadata": {},
     "output_type": "execute_result"
    }
   ],
   "source": [
    "di"
   ]
  },
  {
   "cell_type": "code",
   "execution_count": 11,
   "id": "196ea461",
   "metadata": {},
   "outputs": [],
   "source": [
    "def gen_breeze(neighbor):\n",
    "    br_rules = ''\n",
    "    for i in range(1,5):\n",
    "        for j in range(1,5):\n",
    "            temp_r = join_sym(\"Biconditional\",[f\"di['B{i}{j}']\",join_sym('Or',neighbor[i][j],\"di['P\",\"']\")])\n",
    "            br_rules += temp_r + ','\n",
    "    return br_rules"
   ]
  },
  {
   "cell_type": "code",
   "execution_count": 12,
   "id": "65194d07",
   "metadata": {},
   "outputs": [
    {
     "data": {
      "text/plain": [
       "\"Biconditional( di['B11'], Or( di['P12'], di['P21'])),Biconditional( di['B12'], Or( di['P13'], di['P22'], di['P11'])),Biconditional( di['B13'], Or( di['P14'], di['P23'], di['P12'])),Biconditional( di['B14'], Or( di['P24'], di['P13'])),Biconditional( di['B21'], Or( di['P11'], di['P22'], di['P31'])),Biconditional( di['B22'], Or( di['P12'], di['P23'], di['P32'], di['P21'])),Biconditional( di['B23'], Or( di['P13'], di['P24'], di['P33'], di['P22'])),Biconditional( di['B24'], Or( di['P14'], di['P34'], di['P23'])),Biconditional( di['B31'], Or( di['P21'], di['P32'], di['P41'])),Biconditional( di['B32'], Or( di['P22'], di['P33'], di['P42'], di['P31'])),Biconditional( di['B33'], Or( di['P23'], di['P34'], di['P43'], di['P32'])),Biconditional( di['B34'], Or( di['P24'], di['P44'], di['P33'])),Biconditional( di['B41'], Or( di['P31'], di['P42'])),Biconditional( di['B42'], Or( di['P32'], di['P43'], di['P41'])),Biconditional( di['B43'], Or( di['P33'], di['P44'], di['P42'])),Biconditional( di['B44'], Or( di['P34'], di['P43'])),\""
      ]
     },
     "execution_count": 12,
     "metadata": {},
     "output_type": "execute_result"
    }
   ],
   "source": [
    "gen_breeze(neighbors)"
   ]
  },
  {
   "cell_type": "code",
   "execution_count": 15,
   "id": "6ee4ff22",
   "metadata": {},
   "outputs": [],
   "source": [
    "knowledge_2 = And(Not(di['P11']),Not(di['B11']),Not(di['B12']),di['B21'],Biconditional( di['B11'], Or( di['P12'], di['P21'])),Biconditional( di['B12'], Or( di['P13'], di['P22'], di['P11'])),Biconditional( di['B13'], Or( di['P14'], di['P23'], di['P12'])),Biconditional( di['B14'], Or( di['P24'], di['P13'])),Biconditional( di['B21'], Or( di['P11'], di['P22'], di['P31'])),Biconditional( di['B22'], Or( di['P12'], di['P23'], di['P32'], di['P21'])),Biconditional( di['B23'], Or( di['P13'], di['P24'], di['P33'], di['P22'])),Biconditional( di['B24'], Or( di['P14'], di['P34'], di['P23'])),Biconditional( di['B31'], Or( di['P21'], di['P32'], di['P41'])),Biconditional( di['B32'], Or( di['P22'], di['P33'], di['P42'], di['P31'])),Biconditional( di['B33'], Or( di['P23'], di['P34'], di['P43'], di['P32'])),Biconditional( di['B34'], Or( di['P24'], di['P44'], di['P33'])),Biconditional( di['B41'], Or( di['P31'], di['P42'])),Biconditional( di['B42'], Or( di['P32'], di['P43'], di['P41'])),Biconditional( di['B43'], Or( di['P33'], di['P44'], di['P42'])),Biconditional( di['B44'], Or( di['P34'], di['P43'])))"
   ]
  },
  {
   "cell_type": "code",
   "execution_count": null,
   "id": "53b27355",
   "metadata": {},
   "outputs": [],
   "source": []
  },
  {
   "cell_type": "code",
   "execution_count": null,
   "id": "55dd2bb9",
   "metadata": {},
   "outputs": [
    {
     "name": "stdout",
     "output_type": "stream",
     "text": [
      "ll\n",
      "{'B32': True, 'P34': True, 'P32': True, 'B41': True, 'B13': True, 'B34': True, 'P12': False, 'P24': True, 'P22': False, 'P21': False, 'P41': True, 'B11': False, 'P33': True, 'B22': True, 'P14': True, 'P31': True, 'B33': True, 'P23': True, 'B44': True, 'B14': True, 'P13': False, 'P44': True, 'B43': True, 'B23': True, 'B21': True, 'P11': False, 'B42': True, 'P43': True, 'B31': True, 'B12': False, 'B24': True, 'P42': True}\n",
      "ll\n",
      "{'B32': True, 'P34': True, 'P32': True, 'B41': True, 'B13': True, 'B34': True, 'P12': False, 'P24': True, 'P22': False, 'P21': False, 'P41': True, 'B11': False, 'P33': True, 'B22': True, 'P14': True, 'P31': True, 'B33': True, 'P23': True, 'B44': True, 'B14': True, 'P13': False, 'P44': True, 'B43': True, 'B23': True, 'B21': True, 'P11': False, 'B42': True, 'P43': True, 'B31': True, 'B12': False, 'B24': True, 'P42': False}\n",
      "ll\n",
      "{'B32': True, 'P34': True, 'P32': True, 'B41': True, 'B13': True, 'B34': True, 'P12': False, 'P24': True, 'P22': False, 'P21': False, 'P41': True, 'B11': False, 'P33': True, 'B22': True, 'P14': True, 'P31': True, 'B33': True, 'P23': True, 'B44': True, 'B14': True, 'P13': False, 'P44': True, 'B43': True, 'B23': True, 'B21': True, 'P11': False, 'B42': True, 'P43': False, 'B31': True, 'B12': False, 'B24': True, 'P42': True}\n",
      "ll\n",
      "{'B32': True, 'P34': True, 'P32': True, 'B41': True, 'B13': True, 'B34': True, 'P12': False, 'P24': True, 'P22': False, 'P21': False, 'P41': True, 'B11': False, 'P33': True, 'B22': True, 'P14': True, 'P31': True, 'B33': True, 'P23': True, 'B44': True, 'B14': True, 'P13': False, 'P44': True, 'B43': True, 'B23': True, 'B21': True, 'P11': False, 'B42': True, 'P43': False, 'B31': True, 'B12': False, 'B24': True, 'P42': False}\n",
      "ll\n",
      "{'B32': True, 'P34': True, 'P32': True, 'B41': True, 'B13': True, 'B34': True, 'P12': False, 'P24': True, 'P22': False, 'P21': False, 'P41': True, 'B11': False, 'P33': True, 'B22': True, 'P14': True, 'P31': True, 'B33': True, 'P23': True, 'B44': True, 'B14': True, 'P13': False, 'P44': False, 'B43': True, 'B23': True, 'B21': True, 'P11': False, 'B42': True, 'P43': True, 'B31': True, 'B12': False, 'B24': True, 'P42': True}\n",
      "ll\n",
      "{'B32': True, 'P34': True, 'P32': True, 'B41': True, 'B13': True, 'B34': True, 'P12': False, 'P24': True, 'P22': False, 'P21': False, 'P41': True, 'B11': False, 'P33': True, 'B22': True, 'P14': True, 'P31': True, 'B33': True, 'P23': True, 'B44': True, 'B14': True, 'P13': False, 'P44': False, 'B43': True, 'B23': True, 'B21': True, 'P11': False, 'B42': True, 'P43': True, 'B31': True, 'B12': False, 'B24': True, 'P42': False}\n",
      "ll\n",
      "{'B32': True, 'P34': True, 'P32': True, 'B41': True, 'B13': True, 'B34': True, 'P12': False, 'P24': True, 'P22': False, 'P21': False, 'P41': True, 'B11': False, 'P33': True, 'B22': True, 'P14': True, 'P31': True, 'B33': True, 'P23': True, 'B44': True, 'B14': True, 'P13': False, 'P44': False, 'B43': True, 'B23': True, 'B21': True, 'P11': False, 'B42': True, 'P43': False, 'B31': True, 'B12': False, 'B24': True, 'P42': True}\n",
      "ll\n",
      "{'B32': True, 'P34': True, 'P32': True, 'B41': True, 'B13': True, 'B34': True, 'P12': False, 'P24': True, 'P22': False, 'P21': False, 'P41': True, 'B11': False, 'P33': True, 'B22': True, 'P14': True, 'P31': True, 'B33': True, 'P23': True, 'B44': True, 'B14': True, 'P13': False, 'P44': False, 'B43': True, 'B23': True, 'B21': True, 'P11': False, 'B42': True, 'P43': False, 'B31': True, 'B12': False, 'B24': True, 'P42': False}\n",
      "ll\n",
      "{'B32': True, 'P34': True, 'P32': True, 'B41': True, 'B13': True, 'B34': True, 'P12': False, 'P24': True, 'P22': False, 'P21': False, 'P41': True, 'B11': False, 'P33': True, 'B22': True, 'P14': True, 'P31': True, 'B33': True, 'P23': False, 'B44': True, 'B14': True, 'P13': False, 'P44': True, 'B43': True, 'B23': True, 'B21': True, 'P11': False, 'B42': True, 'P43': True, 'B31': True, 'B12': False, 'B24': True, 'P42': True}\n",
      "ll\n",
      "{'B32': True, 'P34': True, 'P32': True, 'B41': True, 'B13': True, 'B34': True, 'P12': False, 'P24': True, 'P22': False, 'P21': False, 'P41': True, 'B11': False, 'P33': True, 'B22': True, 'P14': True, 'P31': True, 'B33': True, 'P23': False, 'B44': True, 'B14': True, 'P13': False, 'P44': True, 'B43': True, 'B23': True, 'B21': True, 'P11': False, 'B42': True, 'P43': True, 'B31': True, 'B12': False, 'B24': True, 'P42': False}\n",
      "ll\n",
      "{'B32': True, 'P34': True, 'P32': True, 'B41': True, 'B13': True, 'B34': True, 'P12': False, 'P24': True, 'P22': False, 'P21': False, 'P41': True, 'B11': False, 'P33': True, 'B22': True, 'P14': True, 'P31': True, 'B33': True, 'P23': False, 'B44': True, 'B14': True, 'P13': False, 'P44': True, 'B43': True, 'B23': True, 'B21': True, 'P11': False, 'B42': True, 'P43': False, 'B31': True, 'B12': False, 'B24': True, 'P42': True}\n",
      "ll\n",
      "{'B32': True, 'P34': True, 'P32': True, 'B41': True, 'B13': True, 'B34': True, 'P12': False, 'P24': True, 'P22': False, 'P21': False, 'P41': True, 'B11': False, 'P33': True, 'B22': True, 'P14': True, 'P31': True, 'B33': True, 'P23': False, 'B44': True, 'B14': True, 'P13': False, 'P44': True, 'B43': True, 'B23': True, 'B21': True, 'P11': False, 'B42': True, 'P43': False, 'B31': True, 'B12': False, 'B24': True, 'P42': False}\n",
      "ll\n",
      "{'B32': True, 'P34': True, 'P32': True, 'B41': True, 'B13': True, 'B34': True, 'P12': False, 'P24': True, 'P22': False, 'P21': False, 'P41': True, 'B11': False, 'P33': True, 'B22': True, 'P14': True, 'P31': True, 'B33': True, 'P23': False, 'B44': True, 'B14': True, 'P13': False, 'P44': False, 'B43': True, 'B23': True, 'B21': True, 'P11': False, 'B42': True, 'P43': True, 'B31': True, 'B12': False, 'B24': True, 'P42': True}\n",
      "ll\n",
      "{'B32': True, 'P34': True, 'P32': True, 'B41': True, 'B13': True, 'B34': True, 'P12': False, 'P24': True, 'P22': False, 'P21': False, 'P41': True, 'B11': False, 'P33': True, 'B22': True, 'P14': True, 'P31': True, 'B33': True, 'P23': False, 'B44': True, 'B14': True, 'P13': False, 'P44': False, 'B43': True, 'B23': True, 'B21': True, 'P11': False, 'B42': True, 'P43': True, 'B31': True, 'B12': False, 'B24': True, 'P42': False}\n",
      "ll\n",
      "{'B32': True, 'P34': True, 'P32': True, 'B41': True, 'B13': True, 'B34': True, 'P12': False, 'P24': True, 'P22': False, 'P21': False, 'P41': True, 'B11': False, 'P33': True, 'B22': True, 'P14': True, 'P31': True, 'B33': True, 'P23': False, 'B44': True, 'B14': True, 'P13': False, 'P44': False, 'B43': True, 'B23': True, 'B21': True, 'P11': False, 'B42': True, 'P43': False, 'B31': True, 'B12': False, 'B24': True, 'P42': True}\n",
      "ll\n",
      "{'B32': True, 'P34': True, 'P32': True, 'B41': True, 'B13': True, 'B34': True, 'P12': False, 'P24': True, 'P22': False, 'P21': False, 'P41': True, 'B11': False, 'P33': True, 'B22': True, 'P14': True, 'P31': True, 'B33': True, 'P23': False, 'B44': True, 'B14': True, 'P13': False, 'P44': False, 'B43': True, 'B23': True, 'B21': True, 'P11': False, 'B42': True, 'P43': False, 'B31': True, 'B12': False, 'B24': True, 'P42': False}\n",
      "ll\n",
      "{'B32': True, 'P34': True, 'P32': True, 'B41': True, 'B13': True, 'B34': True, 'P12': False, 'P24': True, 'P22': False, 'P21': False, 'P41': True, 'B11': False, 'P33': True, 'B22': True, 'P14': False, 'P31': True, 'B33': True, 'P23': True, 'B44': True, 'B14': True, 'P13': False, 'P44': True, 'B43': True, 'B23': True, 'B21': True, 'P11': False, 'B42': True, 'P43': True, 'B31': True, 'B12': False, 'B24': True, 'P42': True}\n",
      "ll\n",
      "{'B32': True, 'P34': True, 'P32': True, 'B41': True, 'B13': True, 'B34': True, 'P12': False, 'P24': True, 'P22': False, 'P21': False, 'P41': True, 'B11': False, 'P33': True, 'B22': True, 'P14': False, 'P31': True, 'B33': True, 'P23': True, 'B44': True, 'B14': True, 'P13': False, 'P44': True, 'B43': True, 'B23': True, 'B21': True, 'P11': False, 'B42': True, 'P43': True, 'B31': True, 'B12': False, 'B24': True, 'P42': False}\n",
      "ll\n",
      "{'B32': True, 'P34': True, 'P32': True, 'B41': True, 'B13': True, 'B34': True, 'P12': False, 'P24': True, 'P22': False, 'P21': False, 'P41': True, 'B11': False, 'P33': True, 'B22': True, 'P14': False, 'P31': True, 'B33': True, 'P23': True, 'B44': True, 'B14': True, 'P13': False, 'P44': True, 'B43': True, 'B23': True, 'B21': True, 'P11': False, 'B42': True, 'P43': False, 'B31': True, 'B12': False, 'B24': True, 'P42': True}\n",
      "ll\n",
      "{'B32': True, 'P34': True, 'P32': True, 'B41': True, 'B13': True, 'B34': True, 'P12': False, 'P24': True, 'P22': False, 'P21': False, 'P41': True, 'B11': False, 'P33': True, 'B22': True, 'P14': False, 'P31': True, 'B33': True, 'P23': True, 'B44': True, 'B14': True, 'P13': False, 'P44': True, 'B43': True, 'B23': True, 'B21': True, 'P11': False, 'B42': True, 'P43': False, 'B31': True, 'B12': False, 'B24': True, 'P42': False}\n",
      "ll\n",
      "{'B32': True, 'P34': True, 'P32': True, 'B41': True, 'B13': True, 'B34': True, 'P12': False, 'P24': True, 'P22': False, 'P21': False, 'P41': True, 'B11': False, 'P33': True, 'B22': True, 'P14': False, 'P31': True, 'B33': True, 'P23': True, 'B44': True, 'B14': True, 'P13': False, 'P44': False, 'B43': True, 'B23': True, 'B21': True, 'P11': False, 'B42': True, 'P43': True, 'B31': True, 'B12': False, 'B24': True, 'P42': True}\n",
      "ll\n",
      "{'B32': True, 'P34': True, 'P32': True, 'B41': True, 'B13': True, 'B34': True, 'P12': False, 'P24': True, 'P22': False, 'P21': False, 'P41': True, 'B11': False, 'P33': True, 'B22': True, 'P14': False, 'P31': True, 'B33': True, 'P23': True, 'B44': True, 'B14': True, 'P13': False, 'P44': False, 'B43': True, 'B23': True, 'B21': True, 'P11': False, 'B42': True, 'P43': True, 'B31': True, 'B12': False, 'B24': True, 'P42': False}\n",
      "ll\n",
      "{'B32': True, 'P34': True, 'P32': True, 'B41': True, 'B13': True, 'B34': True, 'P12': False, 'P24': True, 'P22': False, 'P21': False, 'P41': True, 'B11': False, 'P33': True, 'B22': True, 'P14': False, 'P31': True, 'B33': True, 'P23': True, 'B44': True, 'B14': True, 'P13': False, 'P44': False, 'B43': True, 'B23': True, 'B21': True, 'P11': False, 'B42': True, 'P43': False, 'B31': True, 'B12': False, 'B24': True, 'P42': True}\n",
      "ll\n",
      "{'B32': True, 'P34': True, 'P32': True, 'B41': True, 'B13': True, 'B34': True, 'P12': False, 'P24': True, 'P22': False, 'P21': False, 'P41': True, 'B11': False, 'P33': True, 'B22': True, 'P14': False, 'P31': True, 'B33': True, 'P23': True, 'B44': True, 'B14': True, 'P13': False, 'P44': False, 'B43': True, 'B23': True, 'B21': True, 'P11': False, 'B42': True, 'P43': False, 'B31': True, 'B12': False, 'B24': True, 'P42': False}\n"
     ]
    },
    {
     "name": "stdout",
     "output_type": "stream",
     "text": [
      "ll\n",
      "{'B32': True, 'P34': True, 'P32': True, 'B41': True, 'B13': True, 'B34': True, 'P12': False, 'P24': True, 'P22': False, 'P21': False, 'P41': True, 'B11': False, 'P33': False, 'B22': True, 'P14': True, 'P31': True, 'B33': True, 'P23': True, 'B44': True, 'B14': True, 'P13': False, 'P44': True, 'B43': True, 'B23': True, 'B21': True, 'P11': False, 'B42': True, 'P43': True, 'B31': True, 'B12': False, 'B24': True, 'P42': True}\n",
      "ll\n",
      "{'B32': True, 'P34': True, 'P32': True, 'B41': True, 'B13': True, 'B34': True, 'P12': False, 'P24': True, 'P22': False, 'P21': False, 'P41': True, 'B11': False, 'P33': False, 'B22': True, 'P14': True, 'P31': True, 'B33': True, 'P23': True, 'B44': True, 'B14': True, 'P13': False, 'P44': True, 'B43': True, 'B23': True, 'B21': True, 'P11': False, 'B42': True, 'P43': True, 'B31': True, 'B12': False, 'B24': True, 'P42': False}\n",
      "ll\n",
      "{'B32': True, 'P34': True, 'P32': True, 'B41': True, 'B13': True, 'B34': True, 'P12': False, 'P24': True, 'P22': False, 'P21': False, 'P41': True, 'B11': False, 'P33': False, 'B22': True, 'P14': True, 'P31': True, 'B33': True, 'P23': True, 'B44': True, 'B14': True, 'P13': False, 'P44': True, 'B43': True, 'B23': True, 'B21': True, 'P11': False, 'B42': True, 'P43': False, 'B31': True, 'B12': False, 'B24': True, 'P42': True}\n",
      "ll\n",
      "{'B32': True, 'P34': True, 'P32': True, 'B41': True, 'B13': True, 'B34': True, 'P12': False, 'P24': True, 'P22': False, 'P21': False, 'P41': True, 'B11': False, 'P33': False, 'B22': True, 'P14': True, 'P31': True, 'B33': True, 'P23': True, 'B44': True, 'B14': True, 'P13': False, 'P44': True, 'B43': True, 'B23': True, 'B21': True, 'P11': False, 'B42': True, 'P43': False, 'B31': True, 'B12': False, 'B24': True, 'P42': False}\n",
      "ll\n",
      "{'B32': True, 'P34': True, 'P32': True, 'B41': True, 'B13': True, 'B34': True, 'P12': False, 'P24': True, 'P22': False, 'P21': False, 'P41': True, 'B11': False, 'P33': False, 'B22': True, 'P14': True, 'P31': True, 'B33': True, 'P23': True, 'B44': True, 'B14': True, 'P13': False, 'P44': False, 'B43': True, 'B23': True, 'B21': True, 'P11': False, 'B42': True, 'P43': True, 'B31': True, 'B12': False, 'B24': True, 'P42': True}\n",
      "ll\n",
      "{'B32': True, 'P34': True, 'P32': True, 'B41': True, 'B13': True, 'B34': True, 'P12': False, 'P24': True, 'P22': False, 'P21': False, 'P41': True, 'B11': False, 'P33': False, 'B22': True, 'P14': True, 'P31': True, 'B33': True, 'P23': True, 'B44': True, 'B14': True, 'P13': False, 'P44': False, 'B43': True, 'B23': True, 'B21': True, 'P11': False, 'B42': True, 'P43': False, 'B31': True, 'B12': False, 'B24': True, 'P42': True}\n",
      "ll\n",
      "{'B32': True, 'P34': True, 'P32': True, 'B41': True, 'B13': True, 'B34': True, 'P12': False, 'P24': True, 'P22': False, 'P21': False, 'P41': True, 'B11': False, 'P33': False, 'B22': True, 'P14': True, 'P31': True, 'B33': True, 'P23': True, 'B44': True, 'B14': True, 'P13': False, 'P44': False, 'B43': False, 'B23': True, 'B21': True, 'P11': False, 'B42': True, 'P43': True, 'B31': True, 'B12': False, 'B24': True, 'P42': False}\n",
      "ll\n",
      "{'B32': True, 'P34': True, 'P32': True, 'B41': True, 'B13': True, 'B34': True, 'P12': False, 'P24': True, 'P22': False, 'P21': False, 'P41': True, 'B11': False, 'P33': False, 'B22': True, 'P14': True, 'P31': True, 'B33': True, 'P23': True, 'B44': True, 'B14': True, 'P13': False, 'P44': False, 'B43': False, 'B23': True, 'B21': True, 'P11': False, 'B42': True, 'P43': False, 'B31': True, 'B12': False, 'B24': True, 'P42': False}\n",
      "ll\n",
      "{'B32': True, 'P34': True, 'P32': True, 'B41': True, 'B13': True, 'B34': True, 'P12': False, 'P24': True, 'P22': False, 'P21': False, 'P41': True, 'B11': False, 'P33': False, 'B22': True, 'P14': True, 'P31': True, 'B33': True, 'P23': False, 'B44': True, 'B14': True, 'P13': False, 'P44': True, 'B43': True, 'B23': True, 'B21': True, 'P11': False, 'B42': True, 'P43': True, 'B31': True, 'B12': False, 'B24': True, 'P42': True}\n",
      "ll\n",
      "{'B32': True, 'P34': True, 'P32': True, 'B41': True, 'B13': True, 'B34': True, 'P12': False, 'P24': True, 'P22': False, 'P21': False, 'P41': True, 'B11': False, 'P33': False, 'B22': True, 'P14': True, 'P31': True, 'B33': True, 'P23': False, 'B44': True, 'B14': True, 'P13': False, 'P44': True, 'B43': True, 'B23': True, 'B21': True, 'P11': False, 'B42': True, 'P43': True, 'B31': True, 'B12': False, 'B24': True, 'P42': False}\n",
      "ll\n",
      "{'B32': True, 'P34': True, 'P32': True, 'B41': True, 'B13': True, 'B34': True, 'P12': False, 'P24': True, 'P22': False, 'P21': False, 'P41': True, 'B11': False, 'P33': False, 'B22': True, 'P14': True, 'P31': True, 'B33': True, 'P23': False, 'B44': True, 'B14': True, 'P13': False, 'P44': True, 'B43': True, 'B23': True, 'B21': True, 'P11': False, 'B42': True, 'P43': False, 'B31': True, 'B12': False, 'B24': True, 'P42': True}\n",
      "ll\n",
      "{'B32': True, 'P34': True, 'P32': True, 'B41': True, 'B13': True, 'B34': True, 'P12': False, 'P24': True, 'P22': False, 'P21': False, 'P41': True, 'B11': False, 'P33': False, 'B22': True, 'P14': True, 'P31': True, 'B33': True, 'P23': False, 'B44': True, 'B14': True, 'P13': False, 'P44': True, 'B43': True, 'B23': True, 'B21': True, 'P11': False, 'B42': True, 'P43': False, 'B31': True, 'B12': False, 'B24': True, 'P42': False}\n",
      "ll\n",
      "{'B32': True, 'P34': True, 'P32': True, 'B41': True, 'B13': True, 'B34': True, 'P12': False, 'P24': True, 'P22': False, 'P21': False, 'P41': True, 'B11': False, 'P33': False, 'B22': True, 'P14': True, 'P31': True, 'B33': True, 'P23': False, 'B44': True, 'B14': True, 'P13': False, 'P44': False, 'B43': True, 'B23': True, 'B21': True, 'P11': False, 'B42': True, 'P43': True, 'B31': True, 'B12': False, 'B24': True, 'P42': True}\n",
      "ll\n",
      "{'B32': True, 'P34': True, 'P32': True, 'B41': True, 'B13': True, 'B34': True, 'P12': False, 'P24': True, 'P22': False, 'P21': False, 'P41': True, 'B11': False, 'P33': False, 'B22': True, 'P14': True, 'P31': True, 'B33': True, 'P23': False, 'B44': True, 'B14': True, 'P13': False, 'P44': False, 'B43': True, 'B23': True, 'B21': True, 'P11': False, 'B42': True, 'P43': False, 'B31': True, 'B12': False, 'B24': True, 'P42': True}\n",
      "ll\n",
      "{'B32': True, 'P34': True, 'P32': True, 'B41': True, 'B13': True, 'B34': True, 'P12': False, 'P24': True, 'P22': False, 'P21': False, 'P41': True, 'B11': False, 'P33': False, 'B22': True, 'P14': True, 'P31': True, 'B33': True, 'P23': False, 'B44': True, 'B14': True, 'P13': False, 'P44': False, 'B43': False, 'B23': True, 'B21': True, 'P11': False, 'B42': True, 'P43': True, 'B31': True, 'B12': False, 'B24': True, 'P42': False}\n",
      "ll\n",
      "{'B32': True, 'P34': True, 'P32': True, 'B41': True, 'B13': True, 'B34': True, 'P12': False, 'P24': True, 'P22': False, 'P21': False, 'P41': True, 'B11': False, 'P33': False, 'B22': True, 'P14': True, 'P31': True, 'B33': True, 'P23': False, 'B44': True, 'B14': True, 'P13': False, 'P44': False, 'B43': False, 'B23': True, 'B21': True, 'P11': False, 'B42': True, 'P43': False, 'B31': True, 'B12': False, 'B24': True, 'P42': False}\n",
      "ll\n",
      "{'B32': True, 'P34': True, 'P32': True, 'B41': True, 'B13': True, 'B34': True, 'P12': False, 'P24': True, 'P22': False, 'P21': False, 'P41': True, 'B11': False, 'P33': False, 'B22': True, 'P14': False, 'P31': True, 'B33': True, 'P23': True, 'B44': True, 'B14': True, 'P13': False, 'P44': True, 'B43': True, 'B23': True, 'B21': True, 'P11': False, 'B42': True, 'P43': True, 'B31': True, 'B12': False, 'B24': True, 'P42': True}\n",
      "ll\n",
      "{'B32': True, 'P34': True, 'P32': True, 'B41': True, 'B13': True, 'B34': True, 'P12': False, 'P24': True, 'P22': False, 'P21': False, 'P41': True, 'B11': False, 'P33': False, 'B22': True, 'P14': False, 'P31': True, 'B33': True, 'P23': True, 'B44': True, 'B14': True, 'P13': False, 'P44': True, 'B43': True, 'B23': True, 'B21': True, 'P11': False, 'B42': True, 'P43': True, 'B31': True, 'B12': False, 'B24': True, 'P42': False}\n",
      "ll\n",
      "{'B32': True, 'P34': True, 'P32': True, 'B41': True, 'B13': True, 'B34': True, 'P12': False, 'P24': True, 'P22': False, 'P21': False, 'P41': True, 'B11': False, 'P33': False, 'B22': True, 'P14': False, 'P31': True, 'B33': True, 'P23': True, 'B44': True, 'B14': True, 'P13': False, 'P44': True, 'B43': True, 'B23': True, 'B21': True, 'P11': False, 'B42': True, 'P43': False, 'B31': True, 'B12': False, 'B24': True, 'P42': True}\n",
      "ll\n",
      "{'B32': True, 'P34': True, 'P32': True, 'B41': True, 'B13': True, 'B34': True, 'P12': False, 'P24': True, 'P22': False, 'P21': False, 'P41': True, 'B11': False, 'P33': False, 'B22': True, 'P14': False, 'P31': True, 'B33': True, 'P23': True, 'B44': True, 'B14': True, 'P13': False, 'P44': True, 'B43': True, 'B23': True, 'B21': True, 'P11': False, 'B42': True, 'P43': False, 'B31': True, 'B12': False, 'B24': True, 'P42': False}\n",
      "ll\n",
      "{'B32': True, 'P34': True, 'P32': True, 'B41': True, 'B13': True, 'B34': True, 'P12': False, 'P24': True, 'P22': False, 'P21': False, 'P41': True, 'B11': False, 'P33': False, 'B22': True, 'P14': False, 'P31': True, 'B33': True, 'P23': True, 'B44': True, 'B14': True, 'P13': False, 'P44': False, 'B43': True, 'B23': True, 'B21': True, 'P11': False, 'B42': True, 'P43': True, 'B31': True, 'B12': False, 'B24': True, 'P42': True}\n",
      "ll\n",
      "{'B32': True, 'P34': True, 'P32': True, 'B41': True, 'B13': True, 'B34': True, 'P12': False, 'P24': True, 'P22': False, 'P21': False, 'P41': True, 'B11': False, 'P33': False, 'B22': True, 'P14': False, 'P31': True, 'B33': True, 'P23': True, 'B44': True, 'B14': True, 'P13': False, 'P44': False, 'B43': True, 'B23': True, 'B21': True, 'P11': False, 'B42': True, 'P43': False, 'B31': True, 'B12': False, 'B24': True, 'P42': True}\n",
      "ll\n",
      "{'B32': True, 'P34': True, 'P32': True, 'B41': True, 'B13': True, 'B34': True, 'P12': False, 'P24': True, 'P22': False, 'P21': False, 'P41': True, 'B11': False, 'P33': False, 'B22': True, 'P14': False, 'P31': True, 'B33': True, 'P23': True, 'B44': True, 'B14': True, 'P13': False, 'P44': False, 'B43': False, 'B23': True, 'B21': True, 'P11': False, 'B42': True, 'P43': True, 'B31': True, 'B12': False, 'B24': True, 'P42': False}\n",
      "ll\n",
      "{'B32': True, 'P34': True, 'P32': True, 'B41': True, 'B13': True, 'B34': True, 'P12': False, 'P24': True, 'P22': False, 'P21': False, 'P41': True, 'B11': False, 'P33': False, 'B22': True, 'P14': False, 'P31': True, 'B33': True, 'P23': True, 'B44': True, 'B14': True, 'P13': False, 'P44': False, 'B43': False, 'B23': True, 'B21': True, 'P11': False, 'B42': True, 'P43': False, 'B31': True, 'B12': False, 'B24': True, 'P42': False}\n"
     ]
    },
    {
     "name": "stdout",
     "output_type": "stream",
     "text": [
      "ll\n",
      "{'B32': True, 'P34': True, 'P32': True, 'B41': True, 'B13': True, 'B34': True, 'P12': False, 'P24': True, 'P22': False, 'P21': False, 'P41': False, 'B11': False, 'P33': True, 'B22': True, 'P14': True, 'P31': True, 'B33': True, 'P23': True, 'B44': True, 'B14': True, 'P13': False, 'P44': True, 'B43': True, 'B23': True, 'B21': True, 'P11': False, 'B42': True, 'P43': True, 'B31': True, 'B12': False, 'B24': True, 'P42': True}\n",
      "ll\n",
      "{'B32': True, 'P34': True, 'P32': True, 'B41': True, 'B13': True, 'B34': True, 'P12': False, 'P24': True, 'P22': False, 'P21': False, 'P41': False, 'B11': False, 'P33': True, 'B22': True, 'P14': True, 'P31': True, 'B33': True, 'P23': True, 'B44': True, 'B14': True, 'P13': False, 'P44': True, 'B43': True, 'B23': True, 'B21': True, 'P11': False, 'B42': True, 'P43': True, 'B31': True, 'B12': False, 'B24': True, 'P42': False}\n",
      "ll\n",
      "{'B32': True, 'P34': True, 'P32': True, 'B41': True, 'B13': True, 'B34': True, 'P12': False, 'P24': True, 'P22': False, 'P21': False, 'P41': False, 'B11': False, 'P33': True, 'B22': True, 'P14': True, 'P31': True, 'B33': True, 'P23': True, 'B44': True, 'B14': True, 'P13': False, 'P44': True, 'B43': True, 'B23': True, 'B21': True, 'P11': False, 'B42': True, 'P43': False, 'B31': True, 'B12': False, 'B24': True, 'P42': True}\n",
      "ll\n",
      "{'B32': True, 'P34': True, 'P32': True, 'B41': True, 'B13': True, 'B34': True, 'P12': False, 'P24': True, 'P22': False, 'P21': False, 'P41': False, 'B11': False, 'P33': True, 'B22': True, 'P14': True, 'P31': True, 'B33': True, 'P23': True, 'B44': True, 'B14': True, 'P13': False, 'P44': True, 'B43': True, 'B23': True, 'B21': True, 'P11': False, 'B42': True, 'P43': False, 'B31': True, 'B12': False, 'B24': True, 'P42': False}\n",
      "ll\n",
      "{'B32': True, 'P34': True, 'P32': True, 'B41': True, 'B13': True, 'B34': True, 'P12': False, 'P24': True, 'P22': False, 'P21': False, 'P41': False, 'B11': False, 'P33': True, 'B22': True, 'P14': True, 'P31': True, 'B33': True, 'P23': True, 'B44': True, 'B14': True, 'P13': False, 'P44': False, 'B43': True, 'B23': True, 'B21': True, 'P11': False, 'B42': True, 'P43': True, 'B31': True, 'B12': False, 'B24': True, 'P42': True}\n",
      "ll\n",
      "{'B32': True, 'P34': True, 'P32': True, 'B41': True, 'B13': True, 'B34': True, 'P12': False, 'P24': True, 'P22': False, 'P21': False, 'P41': False, 'B11': False, 'P33': True, 'B22': True, 'P14': True, 'P31': True, 'B33': True, 'P23': True, 'B44': True, 'B14': True, 'P13': False, 'P44': False, 'B43': True, 'B23': True, 'B21': True, 'P11': False, 'B42': True, 'P43': True, 'B31': True, 'B12': False, 'B24': True, 'P42': False}\n",
      "ll\n",
      "{'B32': True, 'P34': True, 'P32': True, 'B41': True, 'B13': True, 'B34': True, 'P12': False, 'P24': True, 'P22': False, 'P21': False, 'P41': False, 'B11': False, 'P33': True, 'B22': True, 'P14': True, 'P31': True, 'B33': True, 'P23': True, 'B44': True, 'B14': True, 'P13': False, 'P44': False, 'B43': True, 'B23': True, 'B21': True, 'P11': False, 'B42': True, 'P43': False, 'B31': True, 'B12': False, 'B24': True, 'P42': True}\n",
      "ll\n",
      "{'B32': True, 'P34': True, 'P32': True, 'B41': True, 'B13': True, 'B34': True, 'P12': False, 'P24': True, 'P22': False, 'P21': False, 'P41': False, 'B11': False, 'P33': True, 'B22': True, 'P14': True, 'P31': True, 'B33': True, 'P23': True, 'B44': True, 'B14': True, 'P13': False, 'P44': False, 'B43': True, 'B23': True, 'B21': True, 'P11': False, 'B42': True, 'P43': False, 'B31': True, 'B12': False, 'B24': True, 'P42': False}\n",
      "ll\n",
      "{'B32': True, 'P34': True, 'P32': True, 'B41': True, 'B13': True, 'B34': True, 'P12': False, 'P24': True, 'P22': False, 'P21': False, 'P41': False, 'B11': False, 'P33': True, 'B22': True, 'P14': True, 'P31': True, 'B33': True, 'P23': False, 'B44': True, 'B14': True, 'P13': False, 'P44': True, 'B43': True, 'B23': True, 'B21': True, 'P11': False, 'B42': True, 'P43': True, 'B31': True, 'B12': False, 'B24': True, 'P42': True}\n",
      "ll\n",
      "{'B32': True, 'P34': True, 'P32': True, 'B41': True, 'B13': True, 'B34': True, 'P12': False, 'P24': True, 'P22': False, 'P21': False, 'P41': False, 'B11': False, 'P33': True, 'B22': True, 'P14': True, 'P31': True, 'B33': True, 'P23': False, 'B44': True, 'B14': True, 'P13': False, 'P44': True, 'B43': True, 'B23': True, 'B21': True, 'P11': False, 'B42': True, 'P43': True, 'B31': True, 'B12': False, 'B24': True, 'P42': False}\n",
      "ll\n",
      "{'B32': True, 'P34': True, 'P32': True, 'B41': True, 'B13': True, 'B34': True, 'P12': False, 'P24': True, 'P22': False, 'P21': False, 'P41': False, 'B11': False, 'P33': True, 'B22': True, 'P14': True, 'P31': True, 'B33': True, 'P23': False, 'B44': True, 'B14': True, 'P13': False, 'P44': True, 'B43': True, 'B23': True, 'B21': True, 'P11': False, 'B42': True, 'P43': False, 'B31': True, 'B12': False, 'B24': True, 'P42': True}\n",
      "ll\n",
      "{'B32': True, 'P34': True, 'P32': True, 'B41': True, 'B13': True, 'B34': True, 'P12': False, 'P24': True, 'P22': False, 'P21': False, 'P41': False, 'B11': False, 'P33': True, 'B22': True, 'P14': True, 'P31': True, 'B33': True, 'P23': False, 'B44': True, 'B14': True, 'P13': False, 'P44': True, 'B43': True, 'B23': True, 'B21': True, 'P11': False, 'B42': True, 'P43': False, 'B31': True, 'B12': False, 'B24': True, 'P42': False}\n",
      "ll\n",
      "{'B32': True, 'P34': True, 'P32': True, 'B41': True, 'B13': True, 'B34': True, 'P12': False, 'P24': True, 'P22': False, 'P21': False, 'P41': False, 'B11': False, 'P33': True, 'B22': True, 'P14': True, 'P31': True, 'B33': True, 'P23': False, 'B44': True, 'B14': True, 'P13': False, 'P44': False, 'B43': True, 'B23': True, 'B21': True, 'P11': False, 'B42': True, 'P43': True, 'B31': True, 'B12': False, 'B24': True, 'P42': True}\n",
      "ll\n",
      "{'B32': True, 'P34': True, 'P32': True, 'B41': True, 'B13': True, 'B34': True, 'P12': False, 'P24': True, 'P22': False, 'P21': False, 'P41': False, 'B11': False, 'P33': True, 'B22': True, 'P14': True, 'P31': True, 'B33': True, 'P23': False, 'B44': True, 'B14': True, 'P13': False, 'P44': False, 'B43': True, 'B23': True, 'B21': True, 'P11': False, 'B42': True, 'P43': True, 'B31': True, 'B12': False, 'B24': True, 'P42': False}\n",
      "ll\n",
      "{'B32': True, 'P34': True, 'P32': True, 'B41': True, 'B13': True, 'B34': True, 'P12': False, 'P24': True, 'P22': False, 'P21': False, 'P41': False, 'B11': False, 'P33': True, 'B22': True, 'P14': True, 'P31': True, 'B33': True, 'P23': False, 'B44': True, 'B14': True, 'P13': False, 'P44': False, 'B43': True, 'B23': True, 'B21': True, 'P11': False, 'B42': True, 'P43': False, 'B31': True, 'B12': False, 'B24': True, 'P42': True}\n",
      "ll\n",
      "{'B32': True, 'P34': True, 'P32': True, 'B41': True, 'B13': True, 'B34': True, 'P12': False, 'P24': True, 'P22': False, 'P21': False, 'P41': False, 'B11': False, 'P33': True, 'B22': True, 'P14': True, 'P31': True, 'B33': True, 'P23': False, 'B44': True, 'B14': True, 'P13': False, 'P44': False, 'B43': True, 'B23': True, 'B21': True, 'P11': False, 'B42': True, 'P43': False, 'B31': True, 'B12': False, 'B24': True, 'P42': False}\n",
      "ll\n",
      "{'B32': True, 'P34': True, 'P32': True, 'B41': True, 'B13': True, 'B34': True, 'P12': False, 'P24': True, 'P22': False, 'P21': False, 'P41': False, 'B11': False, 'P33': True, 'B22': True, 'P14': False, 'P31': True, 'B33': True, 'P23': True, 'B44': True, 'B14': True, 'P13': False, 'P44': True, 'B43': True, 'B23': True, 'B21': True, 'P11': False, 'B42': True, 'P43': True, 'B31': True, 'B12': False, 'B24': True, 'P42': True}\n",
      "ll\n",
      "{'B32': True, 'P34': True, 'P32': True, 'B41': True, 'B13': True, 'B34': True, 'P12': False, 'P24': True, 'P22': False, 'P21': False, 'P41': False, 'B11': False, 'P33': True, 'B22': True, 'P14': False, 'P31': True, 'B33': True, 'P23': True, 'B44': True, 'B14': True, 'P13': False, 'P44': True, 'B43': True, 'B23': True, 'B21': True, 'P11': False, 'B42': True, 'P43': True, 'B31': True, 'B12': False, 'B24': True, 'P42': False}\n",
      "ll\n",
      "{'B32': True, 'P34': True, 'P32': True, 'B41': True, 'B13': True, 'B34': True, 'P12': False, 'P24': True, 'P22': False, 'P21': False, 'P41': False, 'B11': False, 'P33': True, 'B22': True, 'P14': False, 'P31': True, 'B33': True, 'P23': True, 'B44': True, 'B14': True, 'P13': False, 'P44': True, 'B43': True, 'B23': True, 'B21': True, 'P11': False, 'B42': True, 'P43': False, 'B31': True, 'B12': False, 'B24': True, 'P42': True}\n",
      "ll\n",
      "{'B32': True, 'P34': True, 'P32': True, 'B41': True, 'B13': True, 'B34': True, 'P12': False, 'P24': True, 'P22': False, 'P21': False, 'P41': False, 'B11': False, 'P33': True, 'B22': True, 'P14': False, 'P31': True, 'B33': True, 'P23': True, 'B44': True, 'B14': True, 'P13': False, 'P44': True, 'B43': True, 'B23': True, 'B21': True, 'P11': False, 'B42': True, 'P43': False, 'B31': True, 'B12': False, 'B24': True, 'P42': False}\n",
      "ll\n",
      "{'B32': True, 'P34': True, 'P32': True, 'B41': True, 'B13': True, 'B34': True, 'P12': False, 'P24': True, 'P22': False, 'P21': False, 'P41': False, 'B11': False, 'P33': True, 'B22': True, 'P14': False, 'P31': True, 'B33': True, 'P23': True, 'B44': True, 'B14': True, 'P13': False, 'P44': False, 'B43': True, 'B23': True, 'B21': True, 'P11': False, 'B42': True, 'P43': True, 'B31': True, 'B12': False, 'B24': True, 'P42': True}\n",
      "ll\n",
      "{'B32': True, 'P34': True, 'P32': True, 'B41': True, 'B13': True, 'B34': True, 'P12': False, 'P24': True, 'P22': False, 'P21': False, 'P41': False, 'B11': False, 'P33': True, 'B22': True, 'P14': False, 'P31': True, 'B33': True, 'P23': True, 'B44': True, 'B14': True, 'P13': False, 'P44': False, 'B43': True, 'B23': True, 'B21': True, 'P11': False, 'B42': True, 'P43': True, 'B31': True, 'B12': False, 'B24': True, 'P42': False}\n",
      "ll\n",
      "{'B32': True, 'P34': True, 'P32': True, 'B41': True, 'B13': True, 'B34': True, 'P12': False, 'P24': True, 'P22': False, 'P21': False, 'P41': False, 'B11': False, 'P33': True, 'B22': True, 'P14': False, 'P31': True, 'B33': True, 'P23': True, 'B44': True, 'B14': True, 'P13': False, 'P44': False, 'B43': True, 'B23': True, 'B21': True, 'P11': False, 'B42': True, 'P43': False, 'B31': True, 'B12': False, 'B24': True, 'P42': True}\n",
      "ll\n",
      "{'B32': True, 'P34': True, 'P32': True, 'B41': True, 'B13': True, 'B34': True, 'P12': False, 'P24': True, 'P22': False, 'P21': False, 'P41': False, 'B11': False, 'P33': True, 'B22': True, 'P14': False, 'P31': True, 'B33': True, 'P23': True, 'B44': True, 'B14': True, 'P13': False, 'P44': False, 'B43': True, 'B23': True, 'B21': True, 'P11': False, 'B42': True, 'P43': False, 'B31': True, 'B12': False, 'B24': True, 'P42': False}\n"
     ]
    },
    {
     "name": "stdout",
     "output_type": "stream",
     "text": [
      "ll\n",
      "{'B32': True, 'P34': True, 'P32': True, 'B41': True, 'B13': True, 'B34': True, 'P12': False, 'P24': True, 'P22': False, 'P21': False, 'P41': False, 'B11': False, 'P33': False, 'B22': True, 'P14': True, 'P31': True, 'B33': True, 'P23': True, 'B44': True, 'B14': True, 'P13': False, 'P44': True, 'B43': True, 'B23': True, 'B21': True, 'P11': False, 'B42': True, 'P43': True, 'B31': True, 'B12': False, 'B24': True, 'P42': True}\n",
      "ll\n",
      "{'B32': True, 'P34': True, 'P32': True, 'B41': True, 'B13': True, 'B34': True, 'P12': False, 'P24': True, 'P22': False, 'P21': False, 'P41': False, 'B11': False, 'P33': False, 'B22': True, 'P14': True, 'P31': True, 'B33': True, 'P23': True, 'B44': True, 'B14': True, 'P13': False, 'P44': True, 'B43': True, 'B23': True, 'B21': True, 'P11': False, 'B42': True, 'P43': True, 'B31': True, 'B12': False, 'B24': True, 'P42': False}\n",
      "ll\n",
      "{'B32': True, 'P34': True, 'P32': True, 'B41': True, 'B13': True, 'B34': True, 'P12': False, 'P24': True, 'P22': False, 'P21': False, 'P41': False, 'B11': False, 'P33': False, 'B22': True, 'P14': True, 'P31': True, 'B33': True, 'P23': True, 'B44': True, 'B14': True, 'P13': False, 'P44': True, 'B43': True, 'B23': True, 'B21': True, 'P11': False, 'B42': True, 'P43': False, 'B31': True, 'B12': False, 'B24': True, 'P42': True}\n",
      "ll\n",
      "{'B32': True, 'P34': True, 'P32': True, 'B41': True, 'B13': True, 'B34': True, 'P12': False, 'P24': True, 'P22': False, 'P21': False, 'P41': False, 'B11': False, 'P33': False, 'B22': True, 'P14': True, 'P31': True, 'B33': True, 'P23': True, 'B44': True, 'B14': True, 'P13': False, 'P44': True, 'B43': True, 'B23': True, 'B21': True, 'P11': False, 'B42': True, 'P43': False, 'B31': True, 'B12': False, 'B24': True, 'P42': False}\n",
      "ll\n",
      "{'B32': True, 'P34': True, 'P32': True, 'B41': True, 'B13': True, 'B34': True, 'P12': False, 'P24': True, 'P22': False, 'P21': False, 'P41': False, 'B11': False, 'P33': False, 'B22': True, 'P14': True, 'P31': True, 'B33': True, 'P23': True, 'B44': True, 'B14': True, 'P13': False, 'P44': False, 'B43': True, 'B23': True, 'B21': True, 'P11': False, 'B42': True, 'P43': True, 'B31': True, 'B12': False, 'B24': True, 'P42': True}\n",
      "ll\n",
      "{'B32': True, 'P34': True, 'P32': True, 'B41': True, 'B13': True, 'B34': True, 'P12': False, 'P24': True, 'P22': False, 'P21': False, 'P41': False, 'B11': False, 'P33': False, 'B22': True, 'P14': True, 'P31': True, 'B33': True, 'P23': True, 'B44': True, 'B14': True, 'P13': False, 'P44': False, 'B43': True, 'B23': True, 'B21': True, 'P11': False, 'B42': True, 'P43': False, 'B31': True, 'B12': False, 'B24': True, 'P42': True}\n",
      "ll\n",
      "{'B32': True, 'P34': True, 'P32': True, 'B41': True, 'B13': True, 'B34': True, 'P12': False, 'P24': True, 'P22': False, 'P21': False, 'P41': False, 'B11': False, 'P33': False, 'B22': True, 'P14': True, 'P31': True, 'B33': True, 'P23': True, 'B44': True, 'B14': True, 'P13': False, 'P44': False, 'B43': False, 'B23': True, 'B21': True, 'P11': False, 'B42': True, 'P43': True, 'B31': True, 'B12': False, 'B24': True, 'P42': False}\n",
      "ll\n",
      "{'B32': True, 'P34': True, 'P32': True, 'B41': True, 'B13': True, 'B34': True, 'P12': False, 'P24': True, 'P22': False, 'P21': False, 'P41': False, 'B11': False, 'P33': False, 'B22': True, 'P14': True, 'P31': True, 'B33': True, 'P23': True, 'B44': True, 'B14': True, 'P13': False, 'P44': False, 'B43': False, 'B23': True, 'B21': True, 'P11': False, 'B42': True, 'P43': False, 'B31': True, 'B12': False, 'B24': True, 'P42': False}\n",
      "ll\n",
      "{'B32': True, 'P34': True, 'P32': True, 'B41': True, 'B13': True, 'B34': True, 'P12': False, 'P24': True, 'P22': False, 'P21': False, 'P41': False, 'B11': False, 'P33': False, 'B22': True, 'P14': True, 'P31': True, 'B33': True, 'P23': False, 'B44': True, 'B14': True, 'P13': False, 'P44': True, 'B43': True, 'B23': True, 'B21': True, 'P11': False, 'B42': True, 'P43': True, 'B31': True, 'B12': False, 'B24': True, 'P42': True}\n",
      "ll\n",
      "{'B32': True, 'P34': True, 'P32': True, 'B41': True, 'B13': True, 'B34': True, 'P12': False, 'P24': True, 'P22': False, 'P21': False, 'P41': False, 'B11': False, 'P33': False, 'B22': True, 'P14': True, 'P31': True, 'B33': True, 'P23': False, 'B44': True, 'B14': True, 'P13': False, 'P44': True, 'B43': True, 'B23': True, 'B21': True, 'P11': False, 'B42': True, 'P43': True, 'B31': True, 'B12': False, 'B24': True, 'P42': False}\n",
      "ll\n",
      "{'B32': True, 'P34': True, 'P32': True, 'B41': True, 'B13': True, 'B34': True, 'P12': False, 'P24': True, 'P22': False, 'P21': False, 'P41': False, 'B11': False, 'P33': False, 'B22': True, 'P14': True, 'P31': True, 'B33': True, 'P23': False, 'B44': True, 'B14': True, 'P13': False, 'P44': True, 'B43': True, 'B23': True, 'B21': True, 'P11': False, 'B42': True, 'P43': False, 'B31': True, 'B12': False, 'B24': True, 'P42': True}\n",
      "ll\n",
      "{'B32': True, 'P34': True, 'P32': True, 'B41': True, 'B13': True, 'B34': True, 'P12': False, 'P24': True, 'P22': False, 'P21': False, 'P41': False, 'B11': False, 'P33': False, 'B22': True, 'P14': True, 'P31': True, 'B33': True, 'P23': False, 'B44': True, 'B14': True, 'P13': False, 'P44': True, 'B43': True, 'B23': True, 'B21': True, 'P11': False, 'B42': True, 'P43': False, 'B31': True, 'B12': False, 'B24': True, 'P42': False}\n",
      "ll\n",
      "{'B32': True, 'P34': True, 'P32': True, 'B41': True, 'B13': True, 'B34': True, 'P12': False, 'P24': True, 'P22': False, 'P21': False, 'P41': False, 'B11': False, 'P33': False, 'B22': True, 'P14': True, 'P31': True, 'B33': True, 'P23': False, 'B44': True, 'B14': True, 'P13': False, 'P44': False, 'B43': True, 'B23': True, 'B21': True, 'P11': False, 'B42': True, 'P43': True, 'B31': True, 'B12': False, 'B24': True, 'P42': True}\n",
      "ll\n",
      "{'B32': True, 'P34': True, 'P32': True, 'B41': True, 'B13': True, 'B34': True, 'P12': False, 'P24': True, 'P22': False, 'P21': False, 'P41': False, 'B11': False, 'P33': False, 'B22': True, 'P14': True, 'P31': True, 'B33': True, 'P23': False, 'B44': True, 'B14': True, 'P13': False, 'P44': False, 'B43': True, 'B23': True, 'B21': True, 'P11': False, 'B42': True, 'P43': False, 'B31': True, 'B12': False, 'B24': True, 'P42': True}\n",
      "ll\n",
      "{'B32': True, 'P34': True, 'P32': True, 'B41': True, 'B13': True, 'B34': True, 'P12': False, 'P24': True, 'P22': False, 'P21': False, 'P41': False, 'B11': False, 'P33': False, 'B22': True, 'P14': True, 'P31': True, 'B33': True, 'P23': False, 'B44': True, 'B14': True, 'P13': False, 'P44': False, 'B43': False, 'B23': True, 'B21': True, 'P11': False, 'B42': True, 'P43': True, 'B31': True, 'B12': False, 'B24': True, 'P42': False}\n",
      "ll\n",
      "{'B32': True, 'P34': True, 'P32': True, 'B41': True, 'B13': True, 'B34': True, 'P12': False, 'P24': True, 'P22': False, 'P21': False, 'P41': False, 'B11': False, 'P33': False, 'B22': True, 'P14': True, 'P31': True, 'B33': True, 'P23': False, 'B44': True, 'B14': True, 'P13': False, 'P44': False, 'B43': False, 'B23': True, 'B21': True, 'P11': False, 'B42': True, 'P43': False, 'B31': True, 'B12': False, 'B24': True, 'P42': False}\n",
      "ll\n",
      "{'B32': True, 'P34': True, 'P32': True, 'B41': True, 'B13': True, 'B34': True, 'P12': False, 'P24': True, 'P22': False, 'P21': False, 'P41': False, 'B11': False, 'P33': False, 'B22': True, 'P14': False, 'P31': True, 'B33': True, 'P23': True, 'B44': True, 'B14': True, 'P13': False, 'P44': True, 'B43': True, 'B23': True, 'B21': True, 'P11': False, 'B42': True, 'P43': True, 'B31': True, 'B12': False, 'B24': True, 'P42': True}\n",
      "ll\n",
      "{'B32': True, 'P34': True, 'P32': True, 'B41': True, 'B13': True, 'B34': True, 'P12': False, 'P24': True, 'P22': False, 'P21': False, 'P41': False, 'B11': False, 'P33': False, 'B22': True, 'P14': False, 'P31': True, 'B33': True, 'P23': True, 'B44': True, 'B14': True, 'P13': False, 'P44': True, 'B43': True, 'B23': True, 'B21': True, 'P11': False, 'B42': True, 'P43': True, 'B31': True, 'B12': False, 'B24': True, 'P42': False}\n",
      "ll\n",
      "{'B32': True, 'P34': True, 'P32': True, 'B41': True, 'B13': True, 'B34': True, 'P12': False, 'P24': True, 'P22': False, 'P21': False, 'P41': False, 'B11': False, 'P33': False, 'B22': True, 'P14': False, 'P31': True, 'B33': True, 'P23': True, 'B44': True, 'B14': True, 'P13': False, 'P44': True, 'B43': True, 'B23': True, 'B21': True, 'P11': False, 'B42': True, 'P43': False, 'B31': True, 'B12': False, 'B24': True, 'P42': True}\n",
      "ll\n",
      "{'B32': True, 'P34': True, 'P32': True, 'B41': True, 'B13': True, 'B34': True, 'P12': False, 'P24': True, 'P22': False, 'P21': False, 'P41': False, 'B11': False, 'P33': False, 'B22': True, 'P14': False, 'P31': True, 'B33': True, 'P23': True, 'B44': True, 'B14': True, 'P13': False, 'P44': True, 'B43': True, 'B23': True, 'B21': True, 'P11': False, 'B42': True, 'P43': False, 'B31': True, 'B12': False, 'B24': True, 'P42': False}\n",
      "ll\n",
      "{'B32': True, 'P34': True, 'P32': True, 'B41': True, 'B13': True, 'B34': True, 'P12': False, 'P24': True, 'P22': False, 'P21': False, 'P41': False, 'B11': False, 'P33': False, 'B22': True, 'P14': False, 'P31': True, 'B33': True, 'P23': True, 'B44': True, 'B14': True, 'P13': False, 'P44': False, 'B43': True, 'B23': True, 'B21': True, 'P11': False, 'B42': True, 'P43': True, 'B31': True, 'B12': False, 'B24': True, 'P42': True}\n",
      "ll\n",
      "{'B32': True, 'P34': True, 'P32': True, 'B41': True, 'B13': True, 'B34': True, 'P12': False, 'P24': True, 'P22': False, 'P21': False, 'P41': False, 'B11': False, 'P33': False, 'B22': True, 'P14': False, 'P31': True, 'B33': True, 'P23': True, 'B44': True, 'B14': True, 'P13': False, 'P44': False, 'B43': True, 'B23': True, 'B21': True, 'P11': False, 'B42': True, 'P43': False, 'B31': True, 'B12': False, 'B24': True, 'P42': True}\n",
      "ll\n",
      "{'B32': True, 'P34': True, 'P32': True, 'B41': True, 'B13': True, 'B34': True, 'P12': False, 'P24': True, 'P22': False, 'P21': False, 'P41': False, 'B11': False, 'P33': False, 'B22': True, 'P14': False, 'P31': True, 'B33': True, 'P23': True, 'B44': True, 'B14': True, 'P13': False, 'P44': False, 'B43': False, 'B23': True, 'B21': True, 'P11': False, 'B42': True, 'P43': True, 'B31': True, 'B12': False, 'B24': True, 'P42': False}\n",
      "ll\n",
      "{'B32': True, 'P34': True, 'P32': True, 'B41': True, 'B13': True, 'B34': True, 'P12': False, 'P24': True, 'P22': False, 'P21': False, 'P41': False, 'B11': False, 'P33': False, 'B22': True, 'P14': False, 'P31': True, 'B33': True, 'P23': True, 'B44': True, 'B14': True, 'P13': False, 'P44': False, 'B43': False, 'B23': True, 'B21': True, 'P11': False, 'B42': True, 'P43': False, 'B31': True, 'B12': False, 'B24': True, 'P42': False}\n"
     ]
    },
    {
     "name": "stdout",
     "output_type": "stream",
     "text": [
      "ll\n",
      "{'B32': True, 'P34': True, 'P32': True, 'B41': True, 'B13': True, 'B34': True, 'P12': False, 'P24': False, 'P22': False, 'P21': False, 'P41': True, 'B11': False, 'P33': True, 'B22': True, 'P14': True, 'P31': True, 'B33': True, 'P23': True, 'B44': True, 'B14': False, 'P13': False, 'P44': True, 'B43': True, 'B23': True, 'B21': True, 'P11': False, 'B42': True, 'P43': True, 'B31': True, 'B12': False, 'B24': True, 'P42': True}\n",
      "ll\n",
      "{'B32': True, 'P34': True, 'P32': True, 'B41': True, 'B13': True, 'B34': True, 'P12': False, 'P24': False, 'P22': False, 'P21': False, 'P41': True, 'B11': False, 'P33': True, 'B22': True, 'P14': True, 'P31': True, 'B33': True, 'P23': True, 'B44': True, 'B14': False, 'P13': False, 'P44': True, 'B43': True, 'B23': True, 'B21': True, 'P11': False, 'B42': True, 'P43': True, 'B31': True, 'B12': False, 'B24': True, 'P42': False}\n",
      "ll\n",
      "{'B32': True, 'P34': True, 'P32': True, 'B41': True, 'B13': True, 'B34': True, 'P12': False, 'P24': False, 'P22': False, 'P21': False, 'P41': True, 'B11': False, 'P33': True, 'B22': True, 'P14': True, 'P31': True, 'B33': True, 'P23': True, 'B44': True, 'B14': False, 'P13': False, 'P44': True, 'B43': True, 'B23': True, 'B21': True, 'P11': False, 'B42': True, 'P43': False, 'B31': True, 'B12': False, 'B24': True, 'P42': True}\n",
      "ll\n",
      "{'B32': True, 'P34': True, 'P32': True, 'B41': True, 'B13': True, 'B34': True, 'P12': False, 'P24': False, 'P22': False, 'P21': False, 'P41': True, 'B11': False, 'P33': True, 'B22': True, 'P14': True, 'P31': True, 'B33': True, 'P23': True, 'B44': True, 'B14': False, 'P13': False, 'P44': True, 'B43': True, 'B23': True, 'B21': True, 'P11': False, 'B42': True, 'P43': False, 'B31': True, 'B12': False, 'B24': True, 'P42': False}\n",
      "ll\n",
      "{'B32': True, 'P34': True, 'P32': True, 'B41': True, 'B13': True, 'B34': True, 'P12': False, 'P24': False, 'P22': False, 'P21': False, 'P41': True, 'B11': False, 'P33': True, 'B22': True, 'P14': True, 'P31': True, 'B33': True, 'P23': True, 'B44': True, 'B14': False, 'P13': False, 'P44': False, 'B43': True, 'B23': True, 'B21': True, 'P11': False, 'B42': True, 'P43': True, 'B31': True, 'B12': False, 'B24': True, 'P42': True}\n",
      "ll\n",
      "{'B32': True, 'P34': True, 'P32': True, 'B41': True, 'B13': True, 'B34': True, 'P12': False, 'P24': False, 'P22': False, 'P21': False, 'P41': True, 'B11': False, 'P33': True, 'B22': True, 'P14': True, 'P31': True, 'B33': True, 'P23': True, 'B44': True, 'B14': False, 'P13': False, 'P44': False, 'B43': True, 'B23': True, 'B21': True, 'P11': False, 'B42': True, 'P43': True, 'B31': True, 'B12': False, 'B24': True, 'P42': False}\n",
      "ll\n",
      "{'B32': True, 'P34': True, 'P32': True, 'B41': True, 'B13': True, 'B34': True, 'P12': False, 'P24': False, 'P22': False, 'P21': False, 'P41': True, 'B11': False, 'P33': True, 'B22': True, 'P14': True, 'P31': True, 'B33': True, 'P23': True, 'B44': True, 'B14': False, 'P13': False, 'P44': False, 'B43': True, 'B23': True, 'B21': True, 'P11': False, 'B42': True, 'P43': False, 'B31': True, 'B12': False, 'B24': True, 'P42': True}\n",
      "ll\n",
      "{'B32': True, 'P34': True, 'P32': True, 'B41': True, 'B13': True, 'B34': True, 'P12': False, 'P24': False, 'P22': False, 'P21': False, 'P41': True, 'B11': False, 'P33': True, 'B22': True, 'P14': True, 'P31': True, 'B33': True, 'P23': True, 'B44': True, 'B14': False, 'P13': False, 'P44': False, 'B43': True, 'B23': True, 'B21': True, 'P11': False, 'B42': True, 'P43': False, 'B31': True, 'B12': False, 'B24': True, 'P42': False}\n",
      "ll\n",
      "{'B32': True, 'P34': True, 'P32': True, 'B41': True, 'B13': True, 'B34': True, 'P12': False, 'P24': False, 'P22': False, 'P21': False, 'P41': True, 'B11': False, 'P33': True, 'B22': True, 'P14': True, 'P31': True, 'B33': True, 'P23': False, 'B44': True, 'B14': False, 'P13': False, 'P44': True, 'B43': True, 'B23': True, 'B21': True, 'P11': False, 'B42': True, 'P43': True, 'B31': True, 'B12': False, 'B24': True, 'P42': True}\n",
      "ll\n",
      "{'B32': True, 'P34': True, 'P32': True, 'B41': True, 'B13': True, 'B34': True, 'P12': False, 'P24': False, 'P22': False, 'P21': False, 'P41': True, 'B11': False, 'P33': True, 'B22': True, 'P14': True, 'P31': True, 'B33': True, 'P23': False, 'B44': True, 'B14': False, 'P13': False, 'P44': True, 'B43': True, 'B23': True, 'B21': True, 'P11': False, 'B42': True, 'P43': True, 'B31': True, 'B12': False, 'B24': True, 'P42': False}\n",
      "ll\n",
      "{'B32': True, 'P34': True, 'P32': True, 'B41': True, 'B13': True, 'B34': True, 'P12': False, 'P24': False, 'P22': False, 'P21': False, 'P41': True, 'B11': False, 'P33': True, 'B22': True, 'P14': True, 'P31': True, 'B33': True, 'P23': False, 'B44': True, 'B14': False, 'P13': False, 'P44': True, 'B43': True, 'B23': True, 'B21': True, 'P11': False, 'B42': True, 'P43': False, 'B31': True, 'B12': False, 'B24': True, 'P42': True}\n",
      "ll\n",
      "{'B32': True, 'P34': True, 'P32': True, 'B41': True, 'B13': True, 'B34': True, 'P12': False, 'P24': False, 'P22': False, 'P21': False, 'P41': True, 'B11': False, 'P33': True, 'B22': True, 'P14': True, 'P31': True, 'B33': True, 'P23': False, 'B44': True, 'B14': False, 'P13': False, 'P44': True, 'B43': True, 'B23': True, 'B21': True, 'P11': False, 'B42': True, 'P43': False, 'B31': True, 'B12': False, 'B24': True, 'P42': False}\n",
      "ll\n",
      "{'B32': True, 'P34': True, 'P32': True, 'B41': True, 'B13': True, 'B34': True, 'P12': False, 'P24': False, 'P22': False, 'P21': False, 'P41': True, 'B11': False, 'P33': True, 'B22': True, 'P14': True, 'P31': True, 'B33': True, 'P23': False, 'B44': True, 'B14': False, 'P13': False, 'P44': False, 'B43': True, 'B23': True, 'B21': True, 'P11': False, 'B42': True, 'P43': True, 'B31': True, 'B12': False, 'B24': True, 'P42': True}\n",
      "ll\n",
      "{'B32': True, 'P34': True, 'P32': True, 'B41': True, 'B13': True, 'B34': True, 'P12': False, 'P24': False, 'P22': False, 'P21': False, 'P41': True, 'B11': False, 'P33': True, 'B22': True, 'P14': True, 'P31': True, 'B33': True, 'P23': False, 'B44': True, 'B14': False, 'P13': False, 'P44': False, 'B43': True, 'B23': True, 'B21': True, 'P11': False, 'B42': True, 'P43': True, 'B31': True, 'B12': False, 'B24': True, 'P42': False}\n",
      "ll\n",
      "{'B32': True, 'P34': True, 'P32': True, 'B41': True, 'B13': True, 'B34': True, 'P12': False, 'P24': False, 'P22': False, 'P21': False, 'P41': True, 'B11': False, 'P33': True, 'B22': True, 'P14': True, 'P31': True, 'B33': True, 'P23': False, 'B44': True, 'B14': False, 'P13': False, 'P44': False, 'B43': True, 'B23': True, 'B21': True, 'P11': False, 'B42': True, 'P43': False, 'B31': True, 'B12': False, 'B24': True, 'P42': True}\n",
      "ll\n",
      "{'B32': True, 'P34': True, 'P32': True, 'B41': True, 'B13': True, 'B34': True, 'P12': False, 'P24': False, 'P22': False, 'P21': False, 'P41': True, 'B11': False, 'P33': True, 'B22': True, 'P14': True, 'P31': True, 'B33': True, 'P23': False, 'B44': True, 'B14': False, 'P13': False, 'P44': False, 'B43': True, 'B23': True, 'B21': True, 'P11': False, 'B42': True, 'P43': False, 'B31': True, 'B12': False, 'B24': True, 'P42': False}\n",
      "ll\n",
      "{'B32': True, 'P34': True, 'P32': True, 'B41': True, 'B13': True, 'B34': True, 'P12': False, 'P24': False, 'P22': False, 'P21': False, 'P41': True, 'B11': False, 'P33': True, 'B22': True, 'P14': False, 'P31': True, 'B33': True, 'P23': True, 'B44': True, 'B14': False, 'P13': False, 'P44': True, 'B43': True, 'B23': True, 'B21': True, 'P11': False, 'B42': True, 'P43': True, 'B31': True, 'B12': False, 'B24': True, 'P42': True}\n",
      "ll\n",
      "{'B32': True, 'P34': True, 'P32': True, 'B41': True, 'B13': True, 'B34': True, 'P12': False, 'P24': False, 'P22': False, 'P21': False, 'P41': True, 'B11': False, 'P33': True, 'B22': True, 'P14': False, 'P31': True, 'B33': True, 'P23': True, 'B44': True, 'B14': False, 'P13': False, 'P44': True, 'B43': True, 'B23': True, 'B21': True, 'P11': False, 'B42': True, 'P43': True, 'B31': True, 'B12': False, 'B24': True, 'P42': False}\n",
      "ll\n",
      "{'B32': True, 'P34': True, 'P32': True, 'B41': True, 'B13': True, 'B34': True, 'P12': False, 'P24': False, 'P22': False, 'P21': False, 'P41': True, 'B11': False, 'P33': True, 'B22': True, 'P14': False, 'P31': True, 'B33': True, 'P23': True, 'B44': True, 'B14': False, 'P13': False, 'P44': True, 'B43': True, 'B23': True, 'B21': True, 'P11': False, 'B42': True, 'P43': False, 'B31': True, 'B12': False, 'B24': True, 'P42': True}\n",
      "ll\n",
      "{'B32': True, 'P34': True, 'P32': True, 'B41': True, 'B13': True, 'B34': True, 'P12': False, 'P24': False, 'P22': False, 'P21': False, 'P41': True, 'B11': False, 'P33': True, 'B22': True, 'P14': False, 'P31': True, 'B33': True, 'P23': True, 'B44': True, 'B14': False, 'P13': False, 'P44': True, 'B43': True, 'B23': True, 'B21': True, 'P11': False, 'B42': True, 'P43': False, 'B31': True, 'B12': False, 'B24': True, 'P42': False}\n",
      "ll\n",
      "{'B32': True, 'P34': True, 'P32': True, 'B41': True, 'B13': True, 'B34': True, 'P12': False, 'P24': False, 'P22': False, 'P21': False, 'P41': True, 'B11': False, 'P33': True, 'B22': True, 'P14': False, 'P31': True, 'B33': True, 'P23': True, 'B44': True, 'B14': False, 'P13': False, 'P44': False, 'B43': True, 'B23': True, 'B21': True, 'P11': False, 'B42': True, 'P43': True, 'B31': True, 'B12': False, 'B24': True, 'P42': True}\n",
      "ll\n",
      "{'B32': True, 'P34': True, 'P32': True, 'B41': True, 'B13': True, 'B34': True, 'P12': False, 'P24': False, 'P22': False, 'P21': False, 'P41': True, 'B11': False, 'P33': True, 'B22': True, 'P14': False, 'P31': True, 'B33': True, 'P23': True, 'B44': True, 'B14': False, 'P13': False, 'P44': False, 'B43': True, 'B23': True, 'B21': True, 'P11': False, 'B42': True, 'P43': True, 'B31': True, 'B12': False, 'B24': True, 'P42': False}\n",
      "ll\n",
      "{'B32': True, 'P34': True, 'P32': True, 'B41': True, 'B13': True, 'B34': True, 'P12': False, 'P24': False, 'P22': False, 'P21': False, 'P41': True, 'B11': False, 'P33': True, 'B22': True, 'P14': False, 'P31': True, 'B33': True, 'P23': True, 'B44': True, 'B14': False, 'P13': False, 'P44': False, 'B43': True, 'B23': True, 'B21': True, 'P11': False, 'B42': True, 'P43': False, 'B31': True, 'B12': False, 'B24': True, 'P42': True}\n",
      "ll\n",
      "{'B32': True, 'P34': True, 'P32': True, 'B41': True, 'B13': True, 'B34': True, 'P12': False, 'P24': False, 'P22': False, 'P21': False, 'P41': True, 'B11': False, 'P33': True, 'B22': True, 'P14': False, 'P31': True, 'B33': True, 'P23': True, 'B44': True, 'B14': False, 'P13': False, 'P44': False, 'B43': True, 'B23': True, 'B21': True, 'P11': False, 'B42': True, 'P43': False, 'B31': True, 'B12': False, 'B24': True, 'P42': False}\n"
     ]
    },
    {
     "name": "stdout",
     "output_type": "stream",
     "text": [
      "ll\n",
      "{'B32': True, 'P34': True, 'P32': True, 'B41': True, 'B13': True, 'B34': True, 'P12': False, 'P24': False, 'P22': False, 'P21': False, 'P41': True, 'B11': False, 'P33': False, 'B22': True, 'P14': True, 'P31': True, 'B33': True, 'P23': True, 'B44': True, 'B14': False, 'P13': False, 'P44': True, 'B43': True, 'B23': False, 'B21': True, 'P11': False, 'B42': True, 'P43': True, 'B31': True, 'B12': False, 'B24': True, 'P42': True}\n",
      "ll\n",
      "{'B32': True, 'P34': True, 'P32': True, 'B41': True, 'B13': True, 'B34': True, 'P12': False, 'P24': False, 'P22': False, 'P21': False, 'P41': True, 'B11': False, 'P33': False, 'B22': True, 'P14': True, 'P31': True, 'B33': True, 'P23': True, 'B44': True, 'B14': False, 'P13': False, 'P44': True, 'B43': True, 'B23': False, 'B21': True, 'P11': False, 'B42': True, 'P43': True, 'B31': True, 'B12': False, 'B24': True, 'P42': False}\n",
      "ll\n",
      "{'B32': True, 'P34': True, 'P32': True, 'B41': True, 'B13': True, 'B34': True, 'P12': False, 'P24': False, 'P22': False, 'P21': False, 'P41': True, 'B11': False, 'P33': False, 'B22': True, 'P14': True, 'P31': True, 'B33': True, 'P23': True, 'B44': True, 'B14': False, 'P13': False, 'P44': True, 'B43': True, 'B23': False, 'B21': True, 'P11': False, 'B42': True, 'P43': False, 'B31': True, 'B12': False, 'B24': True, 'P42': True}\n",
      "ll\n",
      "{'B32': True, 'P34': True, 'P32': True, 'B41': True, 'B13': True, 'B34': True, 'P12': False, 'P24': False, 'P22': False, 'P21': False, 'P41': True, 'B11': False, 'P33': False, 'B22': True, 'P14': True, 'P31': True, 'B33': True, 'P23': True, 'B44': True, 'B14': False, 'P13': False, 'P44': True, 'B43': True, 'B23': False, 'B21': True, 'P11': False, 'B42': True, 'P43': False, 'B31': True, 'B12': False, 'B24': True, 'P42': False}\n",
      "ll\n",
      "{'B32': True, 'P34': True, 'P32': True, 'B41': True, 'B13': True, 'B34': True, 'P12': False, 'P24': False, 'P22': False, 'P21': False, 'P41': True, 'B11': False, 'P33': False, 'B22': True, 'P14': True, 'P31': True, 'B33': True, 'P23': False, 'B44': True, 'B14': False, 'P13': False, 'P44': True, 'B43': True, 'B23': False, 'B21': True, 'P11': False, 'B42': True, 'P43': True, 'B31': True, 'B12': False, 'B24': True, 'P42': True}\n",
      "ll\n",
      "{'B32': True, 'P34': True, 'P32': True, 'B41': True, 'B13': True, 'B34': True, 'P12': False, 'P24': False, 'P22': False, 'P21': False, 'P41': True, 'B11': False, 'P33': False, 'B22': True, 'P14': True, 'P31': True, 'B33': True, 'P23': False, 'B44': True, 'B14': False, 'P13': False, 'P44': True, 'B43': True, 'B23': False, 'B21': True, 'P11': False, 'B42': True, 'P43': True, 'B31': True, 'B12': False, 'B24': True, 'P42': False}\n",
      "ll\n",
      "{'B32': True, 'P34': True, 'P32': True, 'B41': True, 'B13': True, 'B34': True, 'P12': False, 'P24': False, 'P22': False, 'P21': False, 'P41': True, 'B11': False, 'P33': False, 'B22': True, 'P14': True, 'P31': True, 'B33': True, 'P23': False, 'B44': True, 'B14': False, 'P13': False, 'P44': True, 'B43': True, 'B23': False, 'B21': True, 'P11': False, 'B42': True, 'P43': False, 'B31': True, 'B12': False, 'B24': True, 'P42': True}\n",
      "ll\n",
      "{'B32': True, 'P34': True, 'P32': True, 'B41': True, 'B13': True, 'B34': True, 'P12': False, 'P24': False, 'P22': False, 'P21': False, 'P41': True, 'B11': False, 'P33': False, 'B22': True, 'P14': True, 'P31': True, 'B33': True, 'P23': False, 'B44': True, 'B14': False, 'P13': False, 'P44': True, 'B43': True, 'B23': False, 'B21': True, 'P11': False, 'B42': True, 'P43': False, 'B31': True, 'B12': False, 'B24': True, 'P42': False}\n",
      "ll\n",
      "{'B32': True, 'P34': True, 'P32': True, 'B41': True, 'B13': True, 'B34': True, 'P12': False, 'P24': False, 'P22': False, 'P21': False, 'P41': True, 'B11': False, 'P33': False, 'B22': True, 'P14': False, 'P31': True, 'B33': True, 'P23': True, 'B44': True, 'B14': False, 'P13': False, 'P44': True, 'B43': True, 'B23': False, 'B21': True, 'P11': False, 'B42': True, 'P43': True, 'B31': True, 'B12': False, 'B24': True, 'P42': True}\n",
      "ll\n",
      "{'B32': True, 'P34': True, 'P32': True, 'B41': True, 'B13': True, 'B34': True, 'P12': False, 'P24': False, 'P22': False, 'P21': False, 'P41': True, 'B11': False, 'P33': False, 'B22': True, 'P14': False, 'P31': True, 'B33': True, 'P23': True, 'B44': True, 'B14': False, 'P13': False, 'P44': True, 'B43': True, 'B23': False, 'B21': True, 'P11': False, 'B42': True, 'P43': True, 'B31': True, 'B12': False, 'B24': True, 'P42': False}\n",
      "ll\n",
      "{'B32': True, 'P34': True, 'P32': True, 'B41': True, 'B13': True, 'B34': True, 'P12': False, 'P24': False, 'P22': False, 'P21': False, 'P41': True, 'B11': False, 'P33': False, 'B22': True, 'P14': False, 'P31': True, 'B33': True, 'P23': True, 'B44': True, 'B14': False, 'P13': False, 'P44': True, 'B43': True, 'B23': False, 'B21': True, 'P11': False, 'B42': True, 'P43': False, 'B31': True, 'B12': False, 'B24': True, 'P42': True}\n",
      "ll\n",
      "{'B32': True, 'P34': True, 'P32': True, 'B41': True, 'B13': True, 'B34': True, 'P12': False, 'P24': False, 'P22': False, 'P21': False, 'P41': True, 'B11': False, 'P33': False, 'B22': True, 'P14': False, 'P31': True, 'B33': True, 'P23': True, 'B44': True, 'B14': False, 'P13': False, 'P44': True, 'B43': True, 'B23': False, 'B21': True, 'P11': False, 'B42': True, 'P43': False, 'B31': True, 'B12': False, 'B24': True, 'P42': False}\n",
      "ll\n",
      "{'B32': True, 'P34': True, 'P32': True, 'B41': True, 'B13': True, 'B34': True, 'P12': False, 'P24': False, 'P22': False, 'P21': False, 'P41': False, 'B11': False, 'P33': True, 'B22': True, 'P14': True, 'P31': True, 'B33': True, 'P23': True, 'B44': True, 'B14': False, 'P13': False, 'P44': True, 'B43': True, 'B23': True, 'B21': True, 'P11': False, 'B42': True, 'P43': True, 'B31': True, 'B12': False, 'B24': True, 'P42': True}\n",
      "ll\n",
      "{'B32': True, 'P34': True, 'P32': True, 'B41': True, 'B13': True, 'B34': True, 'P12': False, 'P24': False, 'P22': False, 'P21': False, 'P41': False, 'B11': False, 'P33': True, 'B22': True, 'P14': True, 'P31': True, 'B33': True, 'P23': True, 'B44': True, 'B14': False, 'P13': False, 'P44': True, 'B43': True, 'B23': True, 'B21': True, 'P11': False, 'B42': True, 'P43': True, 'B31': True, 'B12': False, 'B24': True, 'P42': False}\n",
      "ll\n",
      "{'B32': True, 'P34': True, 'P32': True, 'B41': True, 'B13': True, 'B34': True, 'P12': False, 'P24': False, 'P22': False, 'P21': False, 'P41': False, 'B11': False, 'P33': True, 'B22': True, 'P14': True, 'P31': True, 'B33': True, 'P23': True, 'B44': True, 'B14': False, 'P13': False, 'P44': True, 'B43': True, 'B23': True, 'B21': True, 'P11': False, 'B42': True, 'P43': False, 'B31': True, 'B12': False, 'B24': True, 'P42': True}\n",
      "ll\n",
      "{'B32': True, 'P34': True, 'P32': True, 'B41': True, 'B13': True, 'B34': True, 'P12': False, 'P24': False, 'P22': False, 'P21': False, 'P41': False, 'B11': False, 'P33': True, 'B22': True, 'P14': True, 'P31': True, 'B33': True, 'P23': True, 'B44': True, 'B14': False, 'P13': False, 'P44': True, 'B43': True, 'B23': True, 'B21': True, 'P11': False, 'B42': True, 'P43': False, 'B31': True, 'B12': False, 'B24': True, 'P42': False}\n",
      "ll\n",
      "{'B32': True, 'P34': True, 'P32': True, 'B41': True, 'B13': True, 'B34': True, 'P12': False, 'P24': False, 'P22': False, 'P21': False, 'P41': False, 'B11': False, 'P33': True, 'B22': True, 'P14': True, 'P31': True, 'B33': True, 'P23': True, 'B44': True, 'B14': False, 'P13': False, 'P44': False, 'B43': True, 'B23': True, 'B21': True, 'P11': False, 'B42': True, 'P43': True, 'B31': True, 'B12': False, 'B24': True, 'P42': True}\n",
      "ll\n",
      "{'B32': True, 'P34': True, 'P32': True, 'B41': True, 'B13': True, 'B34': True, 'P12': False, 'P24': False, 'P22': False, 'P21': False, 'P41': False, 'B11': False, 'P33': True, 'B22': True, 'P14': True, 'P31': True, 'B33': True, 'P23': True, 'B44': True, 'B14': False, 'P13': False, 'P44': False, 'B43': True, 'B23': True, 'B21': True, 'P11': False, 'B42': True, 'P43': True, 'B31': True, 'B12': False, 'B24': True, 'P42': False}\n",
      "ll\n",
      "{'B32': True, 'P34': True, 'P32': True, 'B41': True, 'B13': True, 'B34': True, 'P12': False, 'P24': False, 'P22': False, 'P21': False, 'P41': False, 'B11': False, 'P33': True, 'B22': True, 'P14': True, 'P31': True, 'B33': True, 'P23': True, 'B44': True, 'B14': False, 'P13': False, 'P44': False, 'B43': True, 'B23': True, 'B21': True, 'P11': False, 'B42': True, 'P43': False, 'B31': True, 'B12': False, 'B24': True, 'P42': True}\n",
      "ll\n",
      "{'B32': True, 'P34': True, 'P32': True, 'B41': True, 'B13': True, 'B34': True, 'P12': False, 'P24': False, 'P22': False, 'P21': False, 'P41': False, 'B11': False, 'P33': True, 'B22': True, 'P14': True, 'P31': True, 'B33': True, 'P23': True, 'B44': True, 'B14': False, 'P13': False, 'P44': False, 'B43': True, 'B23': True, 'B21': True, 'P11': False, 'B42': True, 'P43': False, 'B31': True, 'B12': False, 'B24': True, 'P42': False}\n",
      "ll\n",
      "{'B32': True, 'P34': True, 'P32': True, 'B41': True, 'B13': True, 'B34': True, 'P12': False, 'P24': False, 'P22': False, 'P21': False, 'P41': False, 'B11': False, 'P33': True, 'B22': True, 'P14': True, 'P31': True, 'B33': True, 'P23': False, 'B44': True, 'B14': False, 'P13': False, 'P44': True, 'B43': True, 'B23': True, 'B21': True, 'P11': False, 'B42': True, 'P43': True, 'B31': True, 'B12': False, 'B24': True, 'P42': True}\n",
      "ll\n",
      "{'B32': True, 'P34': True, 'P32': True, 'B41': True, 'B13': True, 'B34': True, 'P12': False, 'P24': False, 'P22': False, 'P21': False, 'P41': False, 'B11': False, 'P33': True, 'B22': True, 'P14': True, 'P31': True, 'B33': True, 'P23': False, 'B44': True, 'B14': False, 'P13': False, 'P44': True, 'B43': True, 'B23': True, 'B21': True, 'P11': False, 'B42': True, 'P43': True, 'B31': True, 'B12': False, 'B24': True, 'P42': False}\n",
      "ll\n",
      "{'B32': True, 'P34': True, 'P32': True, 'B41': True, 'B13': True, 'B34': True, 'P12': False, 'P24': False, 'P22': False, 'P21': False, 'P41': False, 'B11': False, 'P33': True, 'B22': True, 'P14': True, 'P31': True, 'B33': True, 'P23': False, 'B44': True, 'B14': False, 'P13': False, 'P44': True, 'B43': True, 'B23': True, 'B21': True, 'P11': False, 'B42': True, 'P43': False, 'B31': True, 'B12': False, 'B24': True, 'P42': True}\n",
      "ll\n",
      "{'B32': True, 'P34': True, 'P32': True, 'B41': True, 'B13': True, 'B34': True, 'P12': False, 'P24': False, 'P22': False, 'P21': False, 'P41': False, 'B11': False, 'P33': True, 'B22': True, 'P14': True, 'P31': True, 'B33': True, 'P23': False, 'B44': True, 'B14': False, 'P13': False, 'P44': True, 'B43': True, 'B23': True, 'B21': True, 'P11': False, 'B42': True, 'P43': False, 'B31': True, 'B12': False, 'B24': True, 'P42': False}\n",
      "ll\n",
      "{'B32': True, 'P34': True, 'P32': True, 'B41': True, 'B13': True, 'B34': True, 'P12': False, 'P24': False, 'P22': False, 'P21': False, 'P41': False, 'B11': False, 'P33': True, 'B22': True, 'P14': True, 'P31': True, 'B33': True, 'P23': False, 'B44': True, 'B14': False, 'P13': False, 'P44': False, 'B43': True, 'B23': True, 'B21': True, 'P11': False, 'B42': True, 'P43': True, 'B31': True, 'B12': False, 'B24': True, 'P42': True}\n",
      "ll\n",
      "{'B32': True, 'P34': True, 'P32': True, 'B41': True, 'B13': True, 'B34': True, 'P12': False, 'P24': False, 'P22': False, 'P21': False, 'P41': False, 'B11': False, 'P33': True, 'B22': True, 'P14': True, 'P31': True, 'B33': True, 'P23': False, 'B44': True, 'B14': False, 'P13': False, 'P44': False, 'B43': True, 'B23': True, 'B21': True, 'P11': False, 'B42': True, 'P43': True, 'B31': True, 'B12': False, 'B24': True, 'P42': False}\n",
      "ll\n",
      "{'B32': True, 'P34': True, 'P32': True, 'B41': True, 'B13': True, 'B34': True, 'P12': False, 'P24': False, 'P22': False, 'P21': False, 'P41': False, 'B11': False, 'P33': True, 'B22': True, 'P14': True, 'P31': True, 'B33': True, 'P23': False, 'B44': True, 'B14': False, 'P13': False, 'P44': False, 'B43': True, 'B23': True, 'B21': True, 'P11': False, 'B42': True, 'P43': False, 'B31': True, 'B12': False, 'B24': True, 'P42': True}\n",
      "ll\n",
      "{'B32': True, 'P34': True, 'P32': True, 'B41': True, 'B13': True, 'B34': True, 'P12': False, 'P24': False, 'P22': False, 'P21': False, 'P41': False, 'B11': False, 'P33': True, 'B22': True, 'P14': True, 'P31': True, 'B33': True, 'P23': False, 'B44': True, 'B14': False, 'P13': False, 'P44': False, 'B43': True, 'B23': True, 'B21': True, 'P11': False, 'B42': True, 'P43': False, 'B31': True, 'B12': False, 'B24': True, 'P42': False}\n"
     ]
    },
    {
     "name": "stdout",
     "output_type": "stream",
     "text": [
      "ll\n",
      "{'B32': True, 'P34': True, 'P32': True, 'B41': True, 'B13': True, 'B34': True, 'P12': False, 'P24': False, 'P22': False, 'P21': False, 'P41': False, 'B11': False, 'P33': True, 'B22': True, 'P14': False, 'P31': True, 'B33': True, 'P23': True, 'B44': True, 'B14': False, 'P13': False, 'P44': True, 'B43': True, 'B23': True, 'B21': True, 'P11': False, 'B42': True, 'P43': True, 'B31': True, 'B12': False, 'B24': True, 'P42': True}\n",
      "ll\n",
      "{'B32': True, 'P34': True, 'P32': True, 'B41': True, 'B13': True, 'B34': True, 'P12': False, 'P24': False, 'P22': False, 'P21': False, 'P41': False, 'B11': False, 'P33': True, 'B22': True, 'P14': False, 'P31': True, 'B33': True, 'P23': True, 'B44': True, 'B14': False, 'P13': False, 'P44': True, 'B43': True, 'B23': True, 'B21': True, 'P11': False, 'B42': True, 'P43': True, 'B31': True, 'B12': False, 'B24': True, 'P42': False}\n",
      "ll\n",
      "{'B32': True, 'P34': True, 'P32': True, 'B41': True, 'B13': True, 'B34': True, 'P12': False, 'P24': False, 'P22': False, 'P21': False, 'P41': False, 'B11': False, 'P33': True, 'B22': True, 'P14': False, 'P31': True, 'B33': True, 'P23': True, 'B44': True, 'B14': False, 'P13': False, 'P44': True, 'B43': True, 'B23': True, 'B21': True, 'P11': False, 'B42': True, 'P43': False, 'B31': True, 'B12': False, 'B24': True, 'P42': True}\n",
      "ll\n",
      "{'B32': True, 'P34': True, 'P32': True, 'B41': True, 'B13': True, 'B34': True, 'P12': False, 'P24': False, 'P22': False, 'P21': False, 'P41': False, 'B11': False, 'P33': True, 'B22': True, 'P14': False, 'P31': True, 'B33': True, 'P23': True, 'B44': True, 'B14': False, 'P13': False, 'P44': True, 'B43': True, 'B23': True, 'B21': True, 'P11': False, 'B42': True, 'P43': False, 'B31': True, 'B12': False, 'B24': True, 'P42': False}\n",
      "ll\n",
      "{'B32': True, 'P34': True, 'P32': True, 'B41': True, 'B13': True, 'B34': True, 'P12': False, 'P24': False, 'P22': False, 'P21': False, 'P41': False, 'B11': False, 'P33': True, 'B22': True, 'P14': False, 'P31': True, 'B33': True, 'P23': True, 'B44': True, 'B14': False, 'P13': False, 'P44': False, 'B43': True, 'B23': True, 'B21': True, 'P11': False, 'B42': True, 'P43': True, 'B31': True, 'B12': False, 'B24': True, 'P42': True}\n",
      "ll\n",
      "{'B32': True, 'P34': True, 'P32': True, 'B41': True, 'B13': True, 'B34': True, 'P12': False, 'P24': False, 'P22': False, 'P21': False, 'P41': False, 'B11': False, 'P33': True, 'B22': True, 'P14': False, 'P31': True, 'B33': True, 'P23': True, 'B44': True, 'B14': False, 'P13': False, 'P44': False, 'B43': True, 'B23': True, 'B21': True, 'P11': False, 'B42': True, 'P43': True, 'B31': True, 'B12': False, 'B24': True, 'P42': False}\n",
      "ll\n",
      "{'B32': True, 'P34': True, 'P32': True, 'B41': True, 'B13': True, 'B34': True, 'P12': False, 'P24': False, 'P22': False, 'P21': False, 'P41': False, 'B11': False, 'P33': True, 'B22': True, 'P14': False, 'P31': True, 'B33': True, 'P23': True, 'B44': True, 'B14': False, 'P13': False, 'P44': False, 'B43': True, 'B23': True, 'B21': True, 'P11': False, 'B42': True, 'P43': False, 'B31': True, 'B12': False, 'B24': True, 'P42': True}\n",
      "ll\n",
      "{'B32': True, 'P34': True, 'P32': True, 'B41': True, 'B13': True, 'B34': True, 'P12': False, 'P24': False, 'P22': False, 'P21': False, 'P41': False, 'B11': False, 'P33': True, 'B22': True, 'P14': False, 'P31': True, 'B33': True, 'P23': True, 'B44': True, 'B14': False, 'P13': False, 'P44': False, 'B43': True, 'B23': True, 'B21': True, 'P11': False, 'B42': True, 'P43': False, 'B31': True, 'B12': False, 'B24': True, 'P42': False}\n",
      "ll\n",
      "{'B32': True, 'P34': True, 'P32': True, 'B41': True, 'B13': True, 'B34': True, 'P12': False, 'P24': False, 'P22': False, 'P21': False, 'P41': False, 'B11': False, 'P33': False, 'B22': True, 'P14': True, 'P31': True, 'B33': True, 'P23': True, 'B44': True, 'B14': False, 'P13': False, 'P44': True, 'B43': True, 'B23': False, 'B21': True, 'P11': False, 'B42': True, 'P43': True, 'B31': True, 'B12': False, 'B24': True, 'P42': True}\n",
      "ll\n",
      "{'B32': True, 'P34': True, 'P32': True, 'B41': True, 'B13': True, 'B34': True, 'P12': False, 'P24': False, 'P22': False, 'P21': False, 'P41': False, 'B11': False, 'P33': False, 'B22': True, 'P14': True, 'P31': True, 'B33': True, 'P23': True, 'B44': True, 'B14': False, 'P13': False, 'P44': True, 'B43': True, 'B23': False, 'B21': True, 'P11': False, 'B42': True, 'P43': True, 'B31': True, 'B12': False, 'B24': True, 'P42': False}\n",
      "ll\n",
      "{'B32': True, 'P34': True, 'P32': True, 'B41': True, 'B13': True, 'B34': True, 'P12': False, 'P24': False, 'P22': False, 'P21': False, 'P41': False, 'B11': False, 'P33': False, 'B22': True, 'P14': True, 'P31': True, 'B33': True, 'P23': True, 'B44': True, 'B14': False, 'P13': False, 'P44': True, 'B43': True, 'B23': False, 'B21': True, 'P11': False, 'B42': True, 'P43': False, 'B31': True, 'B12': False, 'B24': True, 'P42': True}\n",
      "ll\n",
      "{'B32': True, 'P34': True, 'P32': True, 'B41': True, 'B13': True, 'B34': True, 'P12': False, 'P24': False, 'P22': False, 'P21': False, 'P41': False, 'B11': False, 'P33': False, 'B22': True, 'P14': True, 'P31': True, 'B33': True, 'P23': True, 'B44': True, 'B14': False, 'P13': False, 'P44': True, 'B43': True, 'B23': False, 'B21': True, 'P11': False, 'B42': True, 'P43': False, 'B31': True, 'B12': False, 'B24': True, 'P42': False}\n",
      "ll\n",
      "{'B32': True, 'P34': True, 'P32': True, 'B41': True, 'B13': True, 'B34': True, 'P12': False, 'P24': False, 'P22': False, 'P21': False, 'P41': False, 'B11': False, 'P33': False, 'B22': True, 'P14': True, 'P31': True, 'B33': True, 'P23': False, 'B44': True, 'B14': False, 'P13': False, 'P44': True, 'B43': True, 'B23': False, 'B21': True, 'P11': False, 'B42': True, 'P43': True, 'B31': True, 'B12': False, 'B24': True, 'P42': True}\n",
      "ll\n",
      "{'B32': True, 'P34': True, 'P32': True, 'B41': True, 'B13': True, 'B34': True, 'P12': False, 'P24': False, 'P22': False, 'P21': False, 'P41': False, 'B11': False, 'P33': False, 'B22': True, 'P14': True, 'P31': True, 'B33': True, 'P23': False, 'B44': True, 'B14': False, 'P13': False, 'P44': True, 'B43': True, 'B23': False, 'B21': True, 'P11': False, 'B42': True, 'P43': True, 'B31': True, 'B12': False, 'B24': True, 'P42': False}\n",
      "ll\n",
      "{'B32': True, 'P34': True, 'P32': True, 'B41': True, 'B13': True, 'B34': True, 'P12': False, 'P24': False, 'P22': False, 'P21': False, 'P41': False, 'B11': False, 'P33': False, 'B22': True, 'P14': True, 'P31': True, 'B33': True, 'P23': False, 'B44': True, 'B14': False, 'P13': False, 'P44': True, 'B43': True, 'B23': False, 'B21': True, 'P11': False, 'B42': True, 'P43': False, 'B31': True, 'B12': False, 'B24': True, 'P42': True}\n",
      "ll\n",
      "{'B32': True, 'P34': True, 'P32': True, 'B41': True, 'B13': True, 'B34': True, 'P12': False, 'P24': False, 'P22': False, 'P21': False, 'P41': False, 'B11': False, 'P33': False, 'B22': True, 'P14': True, 'P31': True, 'B33': True, 'P23': False, 'B44': True, 'B14': False, 'P13': False, 'P44': True, 'B43': True, 'B23': False, 'B21': True, 'P11': False, 'B42': True, 'P43': False, 'B31': True, 'B12': False, 'B24': True, 'P42': False}\n",
      "ll\n",
      "{'B32': True, 'P34': True, 'P32': True, 'B41': True, 'B13': True, 'B34': True, 'P12': False, 'P24': False, 'P22': False, 'P21': False, 'P41': False, 'B11': False, 'P33': False, 'B22': True, 'P14': False, 'P31': True, 'B33': True, 'P23': True, 'B44': True, 'B14': False, 'P13': False, 'P44': True, 'B43': True, 'B23': False, 'B21': True, 'P11': False, 'B42': True, 'P43': True, 'B31': True, 'B12': False, 'B24': True, 'P42': True}\n",
      "ll\n",
      "{'B32': True, 'P34': True, 'P32': True, 'B41': True, 'B13': True, 'B34': True, 'P12': False, 'P24': False, 'P22': False, 'P21': False, 'P41': False, 'B11': False, 'P33': False, 'B22': True, 'P14': False, 'P31': True, 'B33': True, 'P23': True, 'B44': True, 'B14': False, 'P13': False, 'P44': True, 'B43': True, 'B23': False, 'B21': True, 'P11': False, 'B42': True, 'P43': True, 'B31': True, 'B12': False, 'B24': True, 'P42': False}\n",
      "ll\n",
      "{'B32': True, 'P34': True, 'P32': True, 'B41': True, 'B13': True, 'B34': True, 'P12': False, 'P24': False, 'P22': False, 'P21': False, 'P41': False, 'B11': False, 'P33': False, 'B22': True, 'P14': False, 'P31': True, 'B33': True, 'P23': True, 'B44': True, 'B14': False, 'P13': False, 'P44': True, 'B43': True, 'B23': False, 'B21': True, 'P11': False, 'B42': True, 'P43': False, 'B31': True, 'B12': False, 'B24': True, 'P42': True}\n",
      "ll\n",
      "{'B32': True, 'P34': True, 'P32': True, 'B41': True, 'B13': True, 'B34': True, 'P12': False, 'P24': False, 'P22': False, 'P21': False, 'P41': False, 'B11': False, 'P33': False, 'B22': True, 'P14': False, 'P31': True, 'B33': True, 'P23': True, 'B44': True, 'B14': False, 'P13': False, 'P44': True, 'B43': True, 'B23': False, 'B21': True, 'P11': False, 'B42': True, 'P43': False, 'B31': True, 'B12': False, 'B24': True, 'P42': False}\n"
     ]
    }
   ],
   "source": [
    "print(model_check(knowledge_2, di['P31']))"
   ]
  },
  {
   "cell_type": "code",
   "execution_count": 2,
   "id": "c1417460",
   "metadata": {},
   "outputs": [],
   "source": [
    "knowledge = And()"
   ]
  },
  {
   "cell_type": "code",
   "execution_count": 4,
   "id": "ba6f29e4",
   "metadata": {},
   "outputs": [],
   "source": [
    "kb = And()"
   ]
  },
  {
   "cell_type": "code",
   "execution_count": 12,
   "id": "5fcb0f3a",
   "metadata": {},
   "outputs": [],
   "source": [
    "kb=(Not(di['P11']))"
   ]
  },
  {
   "cell_type": "code",
   "execution_count": 39,
   "id": "e2b3dd65",
   "metadata": {},
   "outputs": [],
   "source": [
    "kb = And()"
   ]
  },
  {
   "cell_type": "code",
   "execution_count": 43,
   "id": "2992b839",
   "metadata": {},
   "outputs": [],
   "source": [
    "r1 = eval(\"Not(di['P12'])\")"
   ]
  },
  {
   "cell_type": "code",
   "execution_count": 44,
   "id": "98f3e113",
   "metadata": {},
   "outputs": [],
   "source": [
    "kb.add(r1)"
   ]
  },
  {
   "cell_type": "code",
   "execution_count": 31,
   "id": "ace2c458",
   "metadata": {},
   "outputs": [
    {
     "data": {
      "text/plain": [
       "True"
      ]
     },
     "execution_count": 31,
     "metadata": {},
     "output_type": "execute_result"
    }
   ],
   "source": [
    "r1.evaluate({'P11':False})"
   ]
  },
  {
   "cell_type": "code",
   "execution_count": 45,
   "id": "5620dd3e",
   "metadata": {},
   "outputs": [
    {
     "data": {
      "text/plain": [
       "And(Not(P11), Not(P12))"
      ]
     },
     "execution_count": 45,
     "metadata": {},
     "output_type": "execute_result"
    }
   ],
   "source": [
    "kb"
   ]
  },
  {
   "cell_type": "code",
   "execution_count": 51,
   "id": "6e0ac81e",
   "metadata": {},
   "outputs": [
    {
     "data": {
      "text/plain": [
       "True"
      ]
     },
     "execution_count": 51,
     "metadata": {},
     "output_type": "execute_result"
    }
   ],
   "source": [
    "kb.evaluate({'P11':False,'P12':False})"
   ]
  },
  {
   "cell_type": "code",
   "execution_count": 57,
   "id": "d7693588",
   "metadata": {},
   "outputs": [],
   "source": [
    "ii=0\n",
    "jj = 1"
   ]
  },
  {
   "cell_type": "code",
   "execution_count": 58,
   "id": "93bdf6d1",
   "metadata": {},
   "outputs": [
    {
     "data": {
      "text/plain": [
       "\"Or( Not( di['G34']), Not( di['G01']))\""
      ]
     },
     "execution_count": 58,
     "metadata": {},
     "output_type": "execute_result"
    }
   ],
   "source": [
    "join_sym(\"Or\",[join_sym('Not',[f\"di['G{i}{j}']\"]),join_sym('Not',[f\"di['G{ii}{jj}']\"])])"
   ]
  },
  {
   "cell_type": "code",
   "execution_count": 59,
   "id": "3333d8a7",
   "metadata": {},
   "outputs": [],
   "source": [
    "r1 = eval(join_sym(\"Or\",[join_sym('Not',[f\"di['G{i}{j}']\"]),join_sym('Not',[f\"di['G{ii}{jj}']\"])]))"
   ]
  },
  {
   "cell_type": "code",
   "execution_count": 60,
   "id": "28bd1367",
   "metadata": {},
   "outputs": [],
   "source": [
    "kb = And()"
   ]
  },
  {
   "cell_type": "code",
   "execution_count": 61,
   "id": "fdef168b",
   "metadata": {},
   "outputs": [],
   "source": [
    "kb.add(r1)"
   ]
  },
  {
   "cell_type": "code",
   "execution_count": 62,
   "id": "78d203d1",
   "metadata": {},
   "outputs": [
    {
     "data": {
      "text/plain": [
       "And(Or(Not(G34), Not(G01)))"
      ]
     },
     "execution_count": 62,
     "metadata": {},
     "output_type": "execute_result"
    }
   ],
   "source": [
    "kb"
   ]
  },
  {
   "cell_type": "code",
   "execution_count": 67,
   "id": "91e8d650",
   "metadata": {},
   "outputs": [
    {
     "data": {
      "text/plain": [
       "False"
      ]
     },
     "execution_count": 67,
     "metadata": {},
     "output_type": "execute_result"
    }
   ],
   "source": [
    "kb.evaluate({'G01':True,'G34':True})"
   ]
  },
  {
   "cell_type": "code",
   "execution_count": 71,
   "id": "c23bf78a",
   "metadata": {},
   "outputs": [
    {
     "data": {
      "text/plain": [
       "G11"
      ]
     },
     "execution_count": 71,
     "metadata": {},
     "output_type": "execute_result"
    }
   ],
   "source": [
    "eval(\"( di['G11'])\")"
   ]
  },
  {
   "cell_type": "code",
   "execution_count": null,
   "id": "3c7656d9",
   "metadata": {},
   "outputs": [],
   "source": []
  }
 ],
 "metadata": {
  "kernelspec": {
   "display_name": "Python 3 (ipykernel)",
   "language": "python",
   "name": "python3"
  },
  "language_info": {
   "codemirror_mode": {
    "name": "ipython",
    "version": 3
   },
   "file_extension": ".py",
   "mimetype": "text/x-python",
   "name": "python",
   "nbconvert_exporter": "python",
   "pygments_lexer": "ipython3",
   "version": "3.9.13"
  }
 },
 "nbformat": 4,
 "nbformat_minor": 5
}
