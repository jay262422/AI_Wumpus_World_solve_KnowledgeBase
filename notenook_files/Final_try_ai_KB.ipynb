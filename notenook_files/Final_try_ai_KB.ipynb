{
 "cells": [
  {
   "cell_type": "code",
   "execution_count": 1,
   "id": "fe9b83af",
   "metadata": {},
   "outputs": [
    {
     "ename": "NameError",
     "evalue": "name 'Symbol' is not defined",
     "output_type": "error",
     "traceback": [
      "\u001b[1;31m---------------------------------------------------------------------------\u001b[0m",
      "\u001b[1;31mNameError\u001b[0m                                 Traceback (most recent call last)",
      "Cell \u001b[1;32mIn[1], line 1\u001b[0m\n\u001b[1;32m----> 1\u001b[0m rain \u001b[38;5;241m=\u001b[39m \u001b[43mSymbol\u001b[49m(\u001b[38;5;124m\"\u001b[39m\u001b[38;5;124mrain\u001b[39m\u001b[38;5;124m\"\u001b[39m)\n\u001b[0;32m      2\u001b[0m hagrid \u001b[38;5;241m=\u001b[39m Symbol(\u001b[38;5;124m\"\u001b[39m\u001b[38;5;124mhagrid\u001b[39m\u001b[38;5;124m\"\u001b[39m)\n\u001b[0;32m      3\u001b[0m dumbledore \u001b[38;5;241m=\u001b[39m Symbol(\u001b[38;5;124m\"\u001b[39m\u001b[38;5;124mdumbledore\u001b[39m\u001b[38;5;124m\"\u001b[39m)\n",
      "\u001b[1;31mNameError\u001b[0m: name 'Symbol' is not defined"
     ]
    }
   ],
   "source": [
    "rain = Symbol(\"rain\")\n",
    "hagrid = Symbol(\"hagrid\")\n",
    "dumbledore = Symbol(\"dumbledore\")\n",
    "hel = Symbol('hel')\n",
    "\n",
    "knowledge = And(\n",
    "    Implication(Not(rain), hagrid),\n",
    "    Or(hagrid, dumbledore),\n",
    ")\n",
    "#Or(hagrid, dumbledore),\n",
    "    #Not(And(hagrid, dumbledore)),\n",
    "    #dumbledore\n",
    "KBB = []\n",
    "ALL_model = []\n",
    "first, second, third = model_check(knowledge, rain)\n",
    "print(first)\n",
    "print(second)\n",
    "print(third)"
   ]
  },
  {
   "cell_type": "code",
   "execution_count": 2,
   "id": "849e2d9b",
   "metadata": {
    "scrolled": true
   },
   "outputs": [
    {
     "ename": "NameError",
     "evalue": "name 'knowledge' is not defined",
     "output_type": "error",
     "traceback": [
      "\u001b[1;31m---------------------------------------------------------------------------\u001b[0m",
      "\u001b[1;31mNameError\u001b[0m                                 Traceback (most recent call last)",
      "Cell \u001b[1;32mIn[2], line 1\u001b[0m\n\u001b[1;32m----> 1\u001b[0m \u001b[43mknowledge\u001b[49m\u001b[38;5;241m.\u001b[39madd(hel)\n\u001b[0;32m      2\u001b[0m KBB \u001b[38;5;241m=\u001b[39m []\n\u001b[0;32m      3\u001b[0m ALL_model \u001b[38;5;241m=\u001b[39m []\n",
      "\u001b[1;31mNameError\u001b[0m: name 'knowledge' is not defined"
     ]
    }
   ],
   "source": [
    "knowledge.add(hel)\n",
    "KBB = []\n",
    "ALL_model = []\n",
    "first, second, third = model_check(knowledge, rain,third,second[0])"
   ]
  },
  {
   "cell_type": "code",
   "execution_count": null,
   "id": "cdcc4f5d",
   "metadata": {},
   "outputs": [],
   "source": []
  },
  {
   "cell_type": "code",
   "execution_count": null,
   "id": "4f3a1ff1",
   "metadata": {},
   "outputs": [],
   "source": []
  },
  {
   "cell_type": "code",
   "execution_count": null,
   "id": "30d01163",
   "metadata": {},
   "outputs": [],
   "source": []
  },
  {
   "cell_type": "code",
   "execution_count": null,
   "id": "6bd60f98",
   "metadata": {},
   "outputs": [],
   "source": []
  },
  {
   "cell_type": "code",
   "execution_count": null,
   "id": "18e7452e",
   "metadata": {},
   "outputs": [],
   "source": []
  },
  {
   "cell_type": "code",
   "execution_count": 1,
   "id": "0c58d51b",
   "metadata": {},
   "outputs": [],
   "source": [
    "KBB = []\n",
    "ALL_model = []\n"
   ]
  },
  {
   "cell_type": "code",
   "execution_count": 2,
   "id": "01ff12f2",
   "metadata": {},
   "outputs": [],
   "source": [
    "import time\n",
    "import numpy as np\n",
    "import random"
   ]
  },
  {
   "cell_type": "code",
   "execution_count": 3,
   "id": "ae07f671",
   "metadata": {},
   "outputs": [],
   "source": [
    "class Symbol():\n",
    "    \n",
    "    def __init__(self,name):\n",
    "        self.name = name\n",
    "        \n",
    "    def evaluate(self, model):\n",
    "        return bool(model[self.name])\n",
    "    \n",
    "    def symbols(self):\n",
    "        return {self.name}\n",
    "    \n",
    "class Not():\n",
    "    \n",
    "    def __init__(self,operand):\n",
    "        self.operand = operand\n",
    "        \n",
    "    def evaluate(self, model):\n",
    "        return not(self.operand.evaluate(model))\n",
    "    \n",
    "    def symbols(self):\n",
    "        return self.operand.symbols()\n",
    "        \n",
    "class And():\n",
    "    \n",
    "    def __init__(self, *conjuncts):\n",
    "        self.conjuncts = list(conjuncts)\n",
    "        \n",
    "    def evaluate(self, model):\n",
    "        return all(conjunct.evaluate(model) for conjunct in self.conjuncts)\n",
    "    \n",
    "    def symbols(self):\n",
    "        return set.union(*[conjunct.symbols() for conjunct in self.conjuncts])\n",
    "    \n",
    "    def add(self, conjunct):\n",
    "        self.conjuncts.append(conjunct)\n",
    "\n",
    "\n",
    "class Or():\n",
    "    \n",
    "    def __init__(self, *disjuncts):\n",
    "        self.disjuncts = list(disjuncts)\n",
    "        \n",
    "    def evaluate(self, model):\n",
    "        return any(disjunct.evaluate(model) for disjunct in self.disjuncts)\n",
    "    \n",
    "    def symbols(self):\n",
    "        return set.union(*[disjunct.symbols() for disjunct in self.disjuncts])\n",
    "        \n",
    "        \n",
    "class Implication():\n",
    "    \n",
    "    def __init__(self, left, right):\n",
    "        self.left = left\n",
    "        self.right = right\n",
    "        \n",
    "    def evaluate(self, model):\n",
    "        return ((not self.left.evaluate(model)) or (self.right.evaluate(model)))\n",
    "    \n",
    "    def symbols(self):\n",
    "        return set.union(self.left.symbols(), self.right.symbols())\n",
    "        \n",
    "class Biconditional():\n",
    "    \n",
    "    def __init__(self, left,right):\n",
    "        self.left = left\n",
    "        self.right = right\n",
    "        \n",
    "    def evaluate(self, model):\n",
    "        return ((self.left.evaluate(model) and self.right.evaluate(model)) or \n",
    "                (not (self.left.evaluate(model)) and not(self.right.evaluate(model))))\n",
    "    \n",
    "    def symbols(self):\n",
    "        return set.union(self.left.symbols(), self.right.symbols())\n",
    "    \n",
    "def model_check(knowledge, query,model=dict()): ##,pre_symbols=set()\n",
    "    \"\"\"Checks if knowledge base entails query.\"\"\"\n",
    "    \n",
    "   # KBB = []\n",
    "\n",
    "    def check_all(knowledge, query, symbols, model):\n",
    "        \"\"\"Checks if knowledge base entails query, given a particular model.\"\"\"\n",
    "        \n",
    "        #print(\"model: \",model)\n",
    "\n",
    "        # If model has an assignment for each symbol\n",
    "        #print(symbols)\n",
    "        if not symbols:\n",
    "            # If knowledge base is true in model, then query must also be true\n",
    "            ALL_model.append(model)\n",
    "            if knowledge.evaluate(model):\n",
    "                #KB\n",
    "                KBB.append(model)\n",
    "                #print(\"ll\")\n",
    "                print(model)\n",
    "                return query.evaluate(model)\n",
    "                #return True\n",
    "                \n",
    "            #else:\n",
    "                #print(\"lol lol:\",model)\n",
    "            return True\n",
    "        else:\n",
    "\n",
    "            # Choose one of the remaining unused symbols\n",
    "            remaining = symbols.copy()\n",
    "            p = remaining.pop()\n",
    "\n",
    "            # Create a model where the symbol is true\n",
    "            model_true = model.copy()\n",
    "            model_true[p] = True\n",
    "\n",
    "            # Create a model where the symbol is false\n",
    "            model_false = model.copy()\n",
    "            model_false[p] = False\n",
    "\n",
    "            # Ensure entailment holds in both models\n",
    "            return (check_all(knowledge, query, remaining, model_true) and\n",
    "                    check_all(knowledge, query, remaining, model_false))\n",
    "\n",
    "    # Get all symbols in both knowledge and query\n",
    "    symbols = set.union(knowledge.symbols(), query.symbols())\n",
    "  #  symbols = symbols.difference(pre_symbols)\n",
    "    #print(symbols)\n",
    "\n",
    "    # Check that knowledge entails query\n",
    "    #return check_all(knowledge, query, symbols, model)\n",
    "    return check_all(knowledge, query, symbols, model)  ##,KBB,symbols"
   ]
  },
  {
   "cell_type": "code",
   "execution_count": 144,
   "id": "0bc12ba5",
   "metadata": {},
   "outputs": [],
   "source": [
    "rain = Symbol(\"rain\")"
   ]
  },
  {
   "cell_type": "code",
   "execution_count": 145,
   "id": "edcee346",
   "metadata": {},
   "outputs": [
    {
     "data": {
      "text/plain": [
       "'rain'"
      ]
     },
     "execution_count": 145,
     "metadata": {},
     "output_type": "execute_result"
    }
   ],
   "source": [
    "rain.name"
   ]
  },
  {
   "cell_type": "code",
   "execution_count": 146,
   "id": "a223999a",
   "metadata": {},
   "outputs": [],
   "source": [
    "kol = Symbol(\"kol\")"
   ]
  },
  {
   "cell_type": "code",
   "execution_count": 147,
   "id": "d19322ec",
   "metadata": {},
   "outputs": [],
   "source": [
    "koj = And(rain,kol,kol)"
   ]
  },
  {
   "cell_type": "code",
   "execution_count": 148,
   "id": "65792059",
   "metadata": {},
   "outputs": [
    {
     "data": {
      "text/plain": [
       "True"
      ]
     },
     "execution_count": 148,
     "metadata": {},
     "output_type": "execute_result"
    }
   ],
   "source": [
    "koj.evaluate({'rain':True, 'kol':True})"
   ]
  },
  {
   "cell_type": "code",
   "execution_count": 149,
   "id": "261ebce0",
   "metadata": {},
   "outputs": [
    {
     "data": {
      "text/plain": [
       "{'kol', 'rain'}"
      ]
     },
     "execution_count": 149,
     "metadata": {},
     "output_type": "execute_result"
    }
   ],
   "source": [
    "koj.symbols()"
   ]
  },
  {
   "cell_type": "code",
   "execution_count": 4,
   "id": "15f0820f",
   "metadata": {},
   "outputs": [],
   "source": [
    "G11 = Symbol('G11')\n",
    "G12 = Symbol('G12')\n",
    "G21 = Symbol('G21')\n",
    "G13 = Symbol('G13')\n",
    "G31 = Symbol('G31')\n",
    "G22 = Symbol('G22')"
   ]
  },
  {
   "cell_type": "code",
   "execution_count": 5,
   "id": "f886d9dd",
   "metadata": {},
   "outputs": [],
   "source": [
    "W11 = Symbol('W11')\n",
    "W12 = Symbol('W12')\n",
    "W21 = Symbol('W21')\n",
    "W13 = Symbol('W13')\n",
    "W31 = Symbol('W31')\n",
    "W22 = Symbol('W22')"
   ]
  },
  {
   "cell_type": "code",
   "execution_count": 6,
   "id": "641a8aad",
   "metadata": {},
   "outputs": [],
   "source": [
    "B11 = Symbol('B11')\n",
    "B12 = Symbol('B12')\n",
    "B21 = Symbol('B21')"
   ]
  },
  {
   "cell_type": "code",
   "execution_count": 7,
   "id": "c1db6dcf",
   "metadata": {},
   "outputs": [],
   "source": [
    "S11 = Symbol('S11')\n",
    "S12 = Symbol('S12')\n",
    "S21 = Symbol('S21')"
   ]
  },
  {
   "cell_type": "code",
   "execution_count": 8,
   "id": "7500b637",
   "metadata": {},
   "outputs": [],
   "source": [
    "P11 = Symbol('P11')\n",
    "P12 = Symbol('P12')\n",
    "P21 = Symbol('P21')\n",
    "P13 = Symbol('P13')\n",
    "P31 = Symbol('P31')\n",
    "P22 = Symbol('P22')"
   ]
  },
  {
   "cell_type": "code",
   "execution_count": 9,
   "id": "783ad457",
   "metadata": {},
   "outputs": [],
   "source": [
    "knowledge = And(Biconditional(B11, Or(P12,P21)),Biconditional(B21, Or(P11,P22,P31)),Not(P11),Not(B11),B21)"
   ]
  },
  {
   "cell_type": "code",
   "execution_count": 10,
   "id": "3ea8f288",
   "metadata": {},
   "outputs": [],
   "source": [
    "#knowledge = And(Biconditional(B11, Or(P12,P21)),Biconditional(B12, Or(P13,P22,P11)),Biconditional(B21, Or(P11,P22,P31)),Not(P11),Not(B11),B21,Not(B12))"
   ]
  },
  {
   "cell_type": "code",
   "execution_count": 11,
   "id": "26fc33a4",
   "metadata": {},
   "outputs": [
    {
     "name": "stdout",
     "output_type": "stream",
     "text": [
      "{'P22': True, 'P21': False, 'P12': False, 'B11': False, 'P31': True, 'B21': True, 'P11': False}\n",
      "{'P22': True, 'P21': False, 'P12': False, 'B11': False, 'P31': False, 'B21': True, 'P11': False}\n",
      "False\n"
     ]
    }
   ],
   "source": [
    "print(model_check(knowledge, P31))"
   ]
  },
  {
   "cell_type": "code",
   "execution_count": 12,
   "id": "1f6cf012",
   "metadata": {},
   "outputs": [],
   "source": [
    "knowledge.add(Biconditional(B12, Or(P13,P22,P11)))\n",
    "knowledge.add(Not(B12))"
   ]
  },
  {
   "cell_type": "code",
   "execution_count": 13,
   "id": "c1ff6bfe",
   "metadata": {},
   "outputs": [
    {
     "name": "stdout",
     "output_type": "stream",
     "text": [
      "{'P22': False, 'P21': False, 'B12': False, 'P13': False, 'P12': False, 'B11': False, 'P31': True, 'B21': True, 'P11': False}\n",
      "True\n"
     ]
    }
   ],
   "source": [
    "print(model_check(knowledge, P31))"
   ]
  },
  {
   "cell_type": "code",
   "execution_count": null,
   "id": "a5ad3835",
   "metadata": {},
   "outputs": [],
   "source": []
  },
  {
   "cell_type": "code",
   "execution_count": null,
   "id": "fd9c37f3",
   "metadata": {},
   "outputs": [],
   "source": []
  },
  {
   "cell_type": "code",
   "execution_count": 14,
   "id": "6c5da991",
   "metadata": {},
   "outputs": [],
   "source": [
    "knowledge = And()"
   ]
  },
  {
   "cell_type": "code",
   "execution_count": 15,
   "id": "e1a43680",
   "metadata": {},
   "outputs": [],
   "source": [
    "knowledge.add(Not(P11))\n",
    "knowledge.add(Not(W11))\n",
    "knowledge.add(Not(G11))\n",
    "knowledge.add(Not(B11))\n",
    "knowledge.add(Biconditional(B11, Or(P12,P21)))\n",
    "knowledge.add(Not(S11))\n",
    "knowledge.add(Biconditional(S11, Or(W12,W21)))"
   ]
  },
  {
   "cell_type": "code",
   "execution_count": 16,
   "id": "7f881276",
   "metadata": {},
   "outputs": [
    {
     "name": "stdout",
     "output_type": "stream",
     "text": [
      "{'P21': False, 'W12': False, 'W11': False, 'P12': False, 'P11': False, 'S11': False, 'W21': False, 'G11': False, 'B11': False}\n",
      "True\n"
     ]
    }
   ],
   "source": [
    "print(model_check(knowledge, Not(P21)))"
   ]
  },
  {
   "cell_type": "code",
   "execution_count": 17,
   "id": "c2e0ccaf",
   "metadata": {},
   "outputs": [
    {
     "name": "stdout",
     "output_type": "stream",
     "text": [
      "{'P21': False, 'W12': False, 'W11': False, 'P12': False, 'P11': False, 'B11': False, 'S11': False, 'W21': False, 'G11': False, 'W22': True}\n",
      "False\n"
     ]
    }
   ],
   "source": [
    "print(model_check(knowledge, Not(W22)))"
   ]
  },
  {
   "cell_type": "code",
   "execution_count": 18,
   "id": "51861d08",
   "metadata": {},
   "outputs": [
    {
     "name": "stdout",
     "output_type": "stream",
     "text": [
      "{'P21': False, 'W12': False, 'W11': False, 'P12': False, 'P11': False, 'S11': False, 'W21': False, 'G11': False, 'B11': False}\n",
      "True\n"
     ]
    }
   ],
   "source": [
    "print(model_check(knowledge, Not(P12)))"
   ]
  },
  {
   "cell_type": "code",
   "execution_count": 19,
   "id": "f488676a",
   "metadata": {},
   "outputs": [],
   "source": [
    "knowledge.add(Not(P21))\n",
    "knowledge.add(Not(P12))\n",
    "knowledge.add(Not(W21))\n",
    "knowledge.add(Not(W12))"
   ]
  },
  {
   "cell_type": "code",
   "execution_count": 20,
   "id": "e940095a",
   "metadata": {},
   "outputs": [],
   "source": [
    "#knowledge.add(Not(P11))\n",
    "#knowledge.add(Not(W11))\n",
    "knowledge.add(Biconditional(B21, Or(P11,P22,P31)))\n",
    "knowledge.add(Biconditional(S21, Or(W11,W22,W31)))\n",
    "knowledge.add(Not(G21))\n",
    "knowledge.add(B21)\n",
    "knowledge.add(Not(S21))"
   ]
  },
  {
   "cell_type": "code",
   "execution_count": 21,
   "id": "72c6d3b1",
   "metadata": {},
   "outputs": [
    {
     "name": "stdout",
     "output_type": "stream",
     "text": [
      "\n",
      "\n",
      "\n",
      "\n"
     ]
    }
   ],
   "source": [
    "print('\\n\\n\\n')"
   ]
  },
  {
   "cell_type": "code",
   "execution_count": 22,
   "id": "0d75fa66",
   "metadata": {},
   "outputs": [
    {
     "name": "stdout",
     "output_type": "stream",
     "text": [
      "{'W12': False, 'P22': True, 'P21': False, 'W11': False, 'P12': False, 'W31': False, 'S21': False, 'B11': False, 'S11': False, 'G21': False, 'P11': False, 'W21': False, 'G11': False, 'W22': False, 'P31': True, 'B21': True}\n",
      "False\n",
      "\n",
      "\n",
      "\n",
      "\n",
      "{'W12': False, 'P22': True, 'P21': False, 'W11': False, 'P12': False, 'W31': False, 'S21': False, 'B11': False, 'S11': False, 'G21': False, 'P11': False, 'W21': False, 'G11': False, 'W22': False, 'P31': True, 'B21': True}\n",
      "False\n",
      "\n",
      "\n",
      "\n",
      "\n",
      "{'W12': False, 'P22': True, 'P21': False, 'W11': False, 'P12': False, 'W31': False, 'S21': False, 'B11': False, 'S11': False, 'G21': False, 'P11': False, 'W21': False, 'G11': False, 'W22': False, 'P31': True, 'B21': True}\n",
      "{'W12': False, 'P22': True, 'P21': False, 'W11': False, 'P12': False, 'W31': False, 'S21': False, 'B11': False, 'S11': False, 'G21': False, 'P11': False, 'W21': False, 'G11': False, 'W22': False, 'P31': False, 'B21': True}\n",
      "{'W12': False, 'P22': False, 'P21': False, 'W11': False, 'P12': False, 'W31': False, 'S21': False, 'B11': False, 'S11': False, 'G21': False, 'P11': False, 'W21': False, 'G11': False, 'W22': False, 'P31': True, 'B21': True}\n",
      "False\n",
      "\n",
      "\n",
      "\n",
      "\n",
      "{'W12': False, 'P22': True, 'P21': False, 'W11': False, 'P12': False, 'W31': False, 'S21': False, 'B11': False, 'S11': False, 'G21': False, 'P11': False, 'W21': False, 'G11': False, 'W22': False, 'P31': True, 'B21': True}\n",
      "{'W12': False, 'P22': True, 'P21': False, 'W11': False, 'P12': False, 'W31': False, 'S21': False, 'B11': False, 'S11': False, 'G21': False, 'P11': False, 'W21': False, 'G11': False, 'W22': False, 'P31': False, 'B21': True}\n",
      "False\n"
     ]
    }
   ],
   "source": [
    "print(model_check(knowledge, Not(P22)))\n",
    "print('\\n\\n\\n')\n",
    "print(model_check(knowledge, Not(P31)))\n",
    "print('\\n\\n\\n')\n",
    "print(model_check(knowledge, P22))\n",
    "print('\\n\\n\\n')\n",
    "print(model_check(knowledge, P31))"
   ]
  },
  {
   "cell_type": "code",
   "execution_count": 23,
   "id": "7a05df92",
   "metadata": {},
   "outputs": [],
   "source": [
    "knowledge.add(Not(W31))\n",
    "knowledge.add(Not(W22))\n",
    "#knowledge.add(Not(P11))\n",
    "#knowledge.add(Not(W11))\n",
    "knowledge.add(Biconditional(B12, Or(P11,P22,P13)))\n",
    "knowledge.add(Biconditional(S12, Or(W11,W22,W13)))\n",
    "knowledge.add(Not(G12))\n",
    "knowledge.add(Not(B12))\n",
    "knowledge.add(S12)"
   ]
  },
  {
   "cell_type": "code",
   "execution_count": 24,
   "id": "54228cb5",
   "metadata": {},
   "outputs": [
    {
     "name": "stdout",
     "output_type": "stream",
     "text": [
      "{'G12': False, 'W12': False, 'P12': False, 'W31': False, 'S11': False, 'G11': False, 'P22': False, 'W13': True, 'B12': False, 'P21': False, 'W11': False, 'S21': False, 'B11': False, 'G21': False, 'P13': False, 'S12': True, 'P11': False, 'W21': False, 'W22': False, 'P31': True, 'B21': True}\n",
      "True\n",
      "\n",
      "\n",
      "\n",
      "\n",
      "{'G12': False, 'W12': False, 'P12': False, 'W31': False, 'S11': False, 'G11': False, 'P22': False, 'W13': True, 'B12': False, 'P21': False, 'W11': False, 'S21': False, 'B11': False, 'G21': False, 'P13': False, 'S12': True, 'P11': False, 'W21': False, 'W22': False, 'P31': True, 'B21': True}\n",
      "True\n",
      "\n",
      "\n",
      "\n",
      "\n",
      "{'G12': False, 'W12': False, 'P12': False, 'W31': False, 'S11': False, 'G11': False, 'P22': False, 'W13': True, 'B12': False, 'P21': False, 'W11': False, 'S21': False, 'B11': False, 'G21': False, 'P13': False, 'S12': True, 'P11': False, 'W21': False, 'W22': False, 'P31': True, 'B21': True}\n",
      "False\n",
      "\n",
      "\n",
      "\n",
      "\n",
      "{'G12': False, 'W12': False, 'P12': False, 'W31': False, 'S11': False, 'G11': False, 'P22': False, 'W13': True, 'B12': False, 'P21': False, 'W11': False, 'S21': False, 'B11': False, 'G21': False, 'P13': False, 'S12': True, 'P11': False, 'W21': False, 'W22': False, 'P31': True, 'B21': True}\n",
      "False\n"
     ]
    }
   ],
   "source": [
    "print(model_check(knowledge, Not(P22)))\n",
    "print('\\n\\n\\n')\n",
    "print(model_check(knowledge, Not(P13)))\n",
    "print('\\n\\n\\n')\n",
    "print(model_check(knowledge, P22))\n",
    "print('\\n\\n\\n')\n",
    "print(model_check(knowledge, P13))"
   ]
  },
  {
   "cell_type": "code",
   "execution_count": 28,
   "id": "2d9534eb",
   "metadata": {},
   "outputs": [
    {
     "name": "stdout",
     "output_type": "stream",
     "text": [
      "{'W11': False, 'W22': False, 'P22': False, 'S21': False, 'P13': False, 'G12': False, 'W12': False, 'G21': False, 'B11': False, 'W13': True, 'P31': True, 'B21': True, 'P11': False, 'P12': False, 'W31': False, 'S11': False, 'W21': False, 'B12': False, 'S12': True, 'G11': False, 'P21': False}\n",
      "True\n"
     ]
    }
   ],
   "source": [
    "print(model_check(knowledge, P31))"
   ]
  },
  {
   "cell_type": "code",
   "execution_count": 29,
   "id": "493ea66f",
   "metadata": {},
   "outputs": [
    {
     "name": "stdout",
     "output_type": "stream",
     "text": [
      "k\n"
     ]
    }
   ],
   "source": [
    "if(1):\n",
    "    print(\"k\")\n",
    "elif(1):\n",
    "    print(l)"
   ]
  },
  {
   "cell_type": "code",
   "execution_count": null,
   "id": "37267a7b",
   "metadata": {},
   "outputs": [],
   "source": []
  },
  {
   "cell_type": "code",
   "execution_count": 131,
   "id": "4f444815",
   "metadata": {},
   "outputs": [],
   "source": [
    "lll = ['op','ll']"
   ]
  },
  {
   "cell_type": "code",
   "execution_count": 132,
   "id": "669d8b0f",
   "metadata": {},
   "outputs": [],
   "source": [
    "lll.remove('ll')"
   ]
  },
  {
   "cell_type": "code",
   "execution_count": 133,
   "id": "406bf839",
   "metadata": {},
   "outputs": [
    {
     "data": {
      "text/plain": [
       "['op']"
      ]
     },
     "execution_count": 133,
     "metadata": {},
     "output_type": "execute_result"
    }
   ],
   "source": [
    "lll"
   ]
  },
  {
   "cell_type": "code",
   "execution_count": 137,
   "id": "755b5713",
   "metadata": {},
   "outputs": [
    {
     "ename": "NameError",
     "evalue": "name 'l' is not defined",
     "output_type": "error",
     "traceback": [
      "\u001b[1;31m---------------------------------------------------------------------------\u001b[0m",
      "\u001b[1;31mNameError\u001b[0m                                 Traceback (most recent call last)",
      "Cell \u001b[1;32mIn[137], line 1\u001b[0m\n\u001b[1;32m----> 1\u001b[0m lll\u001b[38;5;241m.\u001b[39mremove(\u001b[43ml\u001b[49m)\n",
      "\u001b[1;31mNameError\u001b[0m: name 'l' is not defined"
     ]
    }
   ],
   "source": [
    "lll.remove(l)"
   ]
  },
  {
   "cell_type": "code",
   "execution_count": 4,
   "id": "fb607c81",
   "metadata": {},
   "outputs": [],
   "source": [
    "lll = ['ll']"
   ]
  },
  {
   "cell_type": "code",
   "execution_count": 6,
   "id": "232d7bce",
   "metadata": {},
   "outputs": [],
   "source": [
    "lll.append(\"ll\")"
   ]
  },
  {
   "cell_type": "code",
   "execution_count": 7,
   "id": "5d2fd587",
   "metadata": {},
   "outputs": [
    {
     "data": {
      "text/plain": [
       "['ll', 'll']"
      ]
     },
     "execution_count": 7,
     "metadata": {},
     "output_type": "execute_result"
    }
   ],
   "source": [
    "lll"
   ]
  },
  {
   "cell_type": "code",
   "execution_count": 8,
   "id": "352391ef",
   "metadata": {},
   "outputs": [],
   "source": [
    "lll = ('kk')"
   ]
  },
  {
   "cell_type": "code",
   "execution_count": 9,
   "id": "f4766a2f",
   "metadata": {},
   "outputs": [
    {
     "ename": "AttributeError",
     "evalue": "'str' object has no attribute 'append'",
     "output_type": "error",
     "traceback": [
      "\u001b[1;31m---------------------------------------------------------------------------\u001b[0m",
      "\u001b[1;31mAttributeError\u001b[0m                            Traceback (most recent call last)",
      "Cell \u001b[1;32mIn[9], line 1\u001b[0m\n\u001b[1;32m----> 1\u001b[0m \u001b[43mlll\u001b[49m\u001b[38;5;241;43m.\u001b[39;49m\u001b[43mappend\u001b[49m(\u001b[38;5;124m'\u001b[39m\u001b[38;5;124mll\u001b[39m\u001b[38;5;124m'\u001b[39m)\n",
      "\u001b[1;31mAttributeError\u001b[0m: 'str' object has no attribute 'append'"
     ]
    }
   ],
   "source": [
    "lll.append('ll')"
   ]
  },
  {
   "cell_type": "code",
   "execution_count": 50,
   "id": "2bdb87cd",
   "metadata": {},
   "outputs": [],
   "source": [
    "query=rain"
   ]
  },
  {
   "cell_type": "code",
   "execution_count": 51,
   "id": "25b691cf",
   "metadata": {},
   "outputs": [],
   "source": [
    "symbols = set.union(knowledge.symbols(), query.symbols())"
   ]
  },
  {
   "cell_type": "code",
   "execution_count": 62,
   "id": "daaa2b5f",
   "metadata": {},
   "outputs": [],
   "source": [
    "s1 = symbols"
   ]
  },
  {
   "cell_type": "code",
   "execution_count": 53,
   "id": "97dc2bb3",
   "metadata": {},
   "outputs": [
    {
     "data": {
      "text/plain": [
       "set"
      ]
     },
     "execution_count": 53,
     "metadata": {},
     "output_type": "execute_result"
    }
   ],
   "source": [
    "type(symbols)"
   ]
  },
  {
   "cell_type": "code",
   "execution_count": 58,
   "id": "66caf597",
   "metadata": {},
   "outputs": [
    {
     "data": {
      "text/plain": [
       "{'dumbledore', 'hagrid', 'rain'}"
      ]
     },
     "execution_count": 58,
     "metadata": {},
     "output_type": "execute_result"
    }
   ],
   "source": [
    "knowledge.symbols()"
   ]
  },
  {
   "cell_type": "code",
   "execution_count": 61,
   "id": "03cab4d2",
   "metadata": {},
   "outputs": [],
   "source": [
    "s2 = {'dumbledore', 'hagrid', 'rain','hel'}"
   ]
  },
  {
   "cell_type": "code",
   "execution_count": 63,
   "id": "690efd60",
   "metadata": {},
   "outputs": [],
   "source": [
    "s3 = s2.difference(s1)"
   ]
  },
  {
   "cell_type": "code",
   "execution_count": 64,
   "id": "68b815f8",
   "metadata": {},
   "outputs": [
    {
     "data": {
      "text/plain": [
       "{'hel'}"
      ]
     },
     "execution_count": 64,
     "metadata": {},
     "output_type": "execute_result"
    }
   ],
   "source": [
    "s3"
   ]
  },
  {
   "cell_type": "code",
   "execution_count": null,
   "id": "25ce2944",
   "metadata": {},
   "outputs": [],
   "source": []
  }
 ],
 "metadata": {
  "kernelspec": {
   "display_name": "Python 3 (ipykernel)",
   "language": "python",
   "name": "python3"
  },
  "language_info": {
   "codemirror_mode": {
    "name": "ipython",
    "version": 3
   },
   "file_extension": ".py",
   "mimetype": "text/x-python",
   "name": "python",
   "nbconvert_exporter": "python",
   "pygments_lexer": "ipython3",
   "version": "3.9.13"
  }
 },
 "nbformat": 4,
 "nbformat_minor": 5
}
